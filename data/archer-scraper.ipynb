{
 "cells": [
  {
   "cell_type": "code",
   "execution_count": 5,
   "metadata": {},
   "outputs": [],
   "source": [
    "from selenium import webdriver\n",
    "from selenium.webdriver.common.by import By\n",
    "from selenium.webdriver.support.ui import WebDriverWait\n",
    "from selenium.webdriver.support import expected_conditions as EC\n",
    "# from selenium.common.exceptions import NoSuchElementException, \\\n",
    "#     WebDriverException\n",
    "# from selenium.webdriver.common.keys import Keys\n",
    "import requests\n",
    "from random import randint\n",
    "from time import sleep\n",
    "from bs4 import BeautifulSoup, SoupStrainer\n",
    "import pandas as pd\n",
    "from newspaper import Article\n",
    "from newspaper import ArticleException\n",
    "from newspaper import Config\n",
    "from tqdm import tqdm\n",
    "\n",
    "config = Config()\n",
    "config.request_timeout = 10"
   ]
  },
  {
   "cell_type": "code",
   "execution_count": 2,
   "metadata": {},
   "outputs": [],
   "source": [
    "news_pages = {\"BETA\" : 'https://www.beta.team/developments/page/', \"Vertical Aerospace\" : \"https://vertical-aerospace.com/news/\",\\\n",
    "    \"Joby Aviation\" : \"https://www.jobyaviation.com/news/\", \"Archer Aviation\" : \"https://www.archer.com/news\"}"
   ]
  },
  {
   "cell_type": "code",
   "execution_count": 2,
   "metadata": {},
   "outputs": [],
   "source": [
    "# options = webdriver.ChromeOptions()\n",
    "# options.add_argument(\"--headless\")\n",
    "# options.add_argument(\"--incognito\")\n",
    "\n",
    "# # Webdriver exception, webdriver needs to be in PATH\n",
    "# driver = webdriver.Chrome(r\"/usr/lib/chromium-browser/chromedriver\", chrome_options=options)\n",
    "\n",
    "driver = webdriver.Chrome()\n",
    "driver.get(\"https://www.archer.com/news\")"
   ]
  },
  {
   "cell_type": "code",
   "execution_count": 10,
   "metadata": {},
   "outputs": [
    {
     "name": "stdout",
     "output_type": "stream",
     "text": [
      "Message: element not interactable\n",
      "  (Session info: chrome=99.0.4844.82)\n",
      "Stacktrace:\n",
      "Backtrace:\n",
      "\tOrdinal0 [0x00E569A3+2582947]\n",
      "\tOrdinal0 [0x00DEA6D1+2139857]\n",
      "\tOrdinal0 [0x00CE3960+1063264]\n",
      "\tOrdinal0 [0x00D10E4E+1248846]\n",
      "\tOrdinal0 [0x00D06B53+1207123]\n",
      "\tOrdinal0 [0x00D2854C+1344844]\n",
      "\tOrdinal0 [0x00D06524+1205540]\n",
      "\tOrdinal0 [0x00D286A4+1345188]\n",
      "\tOrdinal0 [0x00D3834A+1409866]\n",
      "\tOrdinal0 [0x00D28366+1344358]\n",
      "\tOrdinal0 [0x00D05176+1200502]\n",
      "\tOrdinal0 [0x00D06066+1204326]\n",
      "\tGetHandleVerifier [0x00FFBE02+1675858]\n",
      "\tGetHandleVerifier [0x010B036C+2414524]\n",
      "\tGetHandleVerifier [0x00EEBB01+560977]\n",
      "\tGetHandleVerifier [0x00EEA8D3+556323]\n",
      "\tOrdinal0 [0x00DF020E+2163214]\n",
      "\tOrdinal0 [0x00DF5078+2183288]\n",
      "\tOrdinal0 [0x00DF51C0+2183616]\n",
      "\tOrdinal0 [0x00DFEE1C+2223644]\n",
      "\tBaseThreadInitThunk [0x7569FA29+25]\n",
      "\tRtlGetAppContainerNamedObjectPath [0x77257A7E+286]\n",
      "\tRtlGetAppContainerNamedObjectPath [0x77257A4E+238]\n",
      "\n",
      "Message: no such element: Unable to locate element: {\"method\":\"xpath\",\"selector\":\"//div[@class='articles__bottom']//button\"}\n",
      "  (Session info: chrome=99.0.4844.82)\n",
      "Stacktrace:\n",
      "Backtrace:\n",
      "\tOrdinal0 [0x00E569A3+2582947]\n",
      "\tOrdinal0 [0x00DEA6D1+2139857]\n",
      "\tOrdinal0 [0x00CE3A98+1063576]\n",
      "\tOrdinal0 [0x00D0FF3E+1244990]\n",
      "\tOrdinal0 [0x00D1013B+1245499]\n",
      "\tOrdinal0 [0x00D39F52+1417042]\n",
      "\tOrdinal0 [0x00D28594+1344916]\n",
      "\tOrdinal0 [0x00D3834A+1409866]\n",
      "\tOrdinal0 [0x00D28366+1344358]\n",
      "\tOrdinal0 [0x00D05176+1200502]\n",
      "\tOrdinal0 [0x00D06066+1204326]\n",
      "\tGetHandleVerifier [0x00FFBE02+1675858]\n",
      "\tGetHandleVerifier [0x010B036C+2414524]\n",
      "\tGetHandleVerifier [0x00EEBB01+560977]\n",
      "\tGetHandleVerifier [0x00EEA8D3+556323]\n",
      "\tOrdinal0 [0x00DF020E+2163214]\n",
      "\tOrdinal0 [0x00DF5078+2183288]\n",
      "\tOrdinal0 [0x00DF51C0+2183616]\n",
      "\tOrdinal0 [0x00DFEE1C+2223644]\n",
      "\tBaseThreadInitThunk [0x7569FA29+25]\n",
      "\tRtlGetAppContainerNamedObjectPath [0x77257A7E+286]\n",
      "\tRtlGetAppContainerNamedObjectPath [0x77257A4E+238]\n",
      "\n",
      "Clicked on the button 0 times\n"
     ]
    }
   ],
   "source": [
    "more_news = True\n",
    "\n",
    "driver = webdriver.Chrome()\n",
    "driver.get(\"https://www.archer.com/news\")\n",
    "sleep(5)\n",
    "\n",
    "try:\n",
    "    # Press \"All\" button to create the \"Load more news\" button --> Strange behavior\n",
    "    all_button = WebDriverWait(driver, 10).until(\n",
    "        EC.presence_of_element_located((By.XPATH, \"//button[text()='ALL']\"))\n",
    "    )\n",
    "    # driver.find_element(by = By.XPATH, value = \"//button[text()='ALL']\")\n",
    "    all_button.click()\n",
    "    print(\"Clicked `all` button\")\n",
    "    sleep(3)\n",
    "except Exception as e:\n",
    "    print(e)\n",
    "\n",
    "i = 0\n",
    "while more_news:\n",
    "    try:\n",
    "        more_button = driver.find_element(by = By.XPATH, value=\"//div[@class='articles__bottom']//button\")\n",
    "        sleep(2)\n",
    "        more_button.click()\n",
    "        i += 1\n",
    "        sleep(5)\n",
    "    except Exception as e:\n",
    "        more_news = False\n",
    "        print(e)\n",
    "\n",
    "print(f\"Clicked on the button {i} times\")    "
   ]
  },
  {
   "cell_type": "code",
   "execution_count": null,
   "metadata": {},
   "outputs": [],
   "source": [
    "art = driver.find_element_by_class_name(\"action-tile action-tile--dark-and-tall\")"
   ]
  },
  {
   "cell_type": "code",
   "execution_count": 3,
   "metadata": {},
   "outputs": [
    {
     "name": "stdout",
     "output_type": "stream",
     "text": [
      "Newest member of Board of Directors brings extensive experience negotiating and executing on strategic partnerships to help support Archer’s go-to-market strategy\n",
      "\n",
      "\n",
      "\n",
      "Pilarski was also appointed to Archer’s Nominating and Corporate Governance Committee\n",
      "\n",
      "PALO ALTO, CA, February 2, 2022 - Archer Aviation Inc. (NYSE: ACHR) today announced the appointment of Barbara Pilarski to its Board of Directors. Currently the Global Head of Business Development at Stellantis N.V. (NYSE / MTA / Euronext Paris: STLA), Pilarski is a seasoned leader with over 35 years’ experience in the automotive sector and has a diverse background in the areas of business development, finance and human resources. Pilarski will serve as an independent director and on Archer’s Nominating & Corporate Governance Committee.\n",
      "\n",
      "“We couldn’t be happier that Barbara, with her multifaceted experience, has chosen to join the Archer board as we continue on our journey to change the future of transportation,” said Brett Adcock, co-founder and co-CEO of Archer. “Defining industry-changing partnerships will be a core component of our strategy in the next few years and we’re looking forward to realizing the benefit of Barbara’s wealth of talents in this area.”\n",
      "\n",
      "“Archer is at the forefront of a new industry with great potential to change the way people live and travel. I am excited to be in a position to leverage my experience to help Archer scale its business.” said Barbara Pilarski.\n",
      "\n",
      "Pilarki joins Deborah Diaz, former CTO and deputy CIO of NASA, Maria Pinelli, former Global Vice Chair of E&Y, Fred Diaz, former CEO of Mitsubishi Motors North America, Oscar Munoz, former United Airlines Chairman and CEO, Michael Spellacy, CEO of Atlas Crest Investment Corp, plus co-founders and co-CEOs Brett Adcock and Adam Goldstein, who were appointed to Archer’s Board of Directors in 2021.\n",
      "\n",
      "About Archer\n",
      "\n",
      "Archer’s mission is to advance the benefits of sustainable air mobility. Archer’s goal is to move people throughout the world's cities in a quick, safe, sustainable, and cost-effective manner. Archer is designing and developing electric vertical takeoff and landing aircraft for use in urban air mobility networks. Archer's team is based in Palo Alto, CA. To learn more, visit www.archer.com.\n",
      "\n",
      "For Media\n",
      "\n",
      "Louise Bristow\n",
      "\n",
      "louise.bristow@archer.com\n",
      "\n",
      "archer@launchsquad.com\n",
      "\n",
      "Source: Archer\n",
      "\n",
      "Text: ArcherIR\n"
     ]
    }
   ],
   "source": [
    "url = \"https://archer.com/news/archer-appoints-barbara-pilarski-global-head-of-business-development-at-stellantis-to-board-of-directors\"\n",
    "article = Article(url)\n",
    "article.download()\n",
    "article.parse()\n",
    "print(article.text)\n"
   ]
  }
 ],
 "metadata": {
  "interpreter": {
   "hash": "b5b76da60571fd1c783b89bc8cc36b03252d66726ddefe4bc01d5391cfe9804f"
  },
  "kernelspec": {
   "display_name": "Python 3.8.10 ('venv': venv)",
   "language": "python",
   "name": "python3"
  },
  "language_info": {
   "codemirror_mode": {
    "name": "ipython",
    "version": 3
   },
   "file_extension": ".py",
   "mimetype": "text/x-python",
   "name": "python",
   "nbconvert_exporter": "python",
   "pygments_lexer": "ipython3",
   "version": "3.9.11"
  },
  "orig_nbformat": 4
 },
 "nbformat": 4,
 "nbformat_minor": 2
}
