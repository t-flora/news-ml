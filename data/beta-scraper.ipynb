{
 "cells": [
  {
   "cell_type": "code",
   "execution_count": 1,
   "id": "03ab39ff",
   "metadata": {},
   "outputs": [],
   "source": [
    "from selenium import webdriver\n",
    "# from selenium.webdriver.common.keys import Keys\n",
    "import requests\n",
    "from random import randint\n",
    "from time import sleep\n",
    "from bs4 import BeautifulSoup, SoupStrainer\n",
    "import pandas as pd\n",
    "from newspaper import Article\n",
    "from newspaper import ArticleException\n",
    "from newspaper import Config\n",
    "from tqdm import tqdm\n",
    "\n",
    "config = Config()\n",
    "config.request_timeout = 10"
   ]
  },
  {
   "cell_type": "code",
   "execution_count": 2,
   "id": "c1ddcf02",
   "metadata": {},
   "outputs": [],
   "source": [
    "news_pages = {\"BETA\" : 'https://www.beta.team/developments/page/', \"Vertical Aerospace\" : \"https://vertical-aerospace.com/news/\",\\\n",
    "    \"Joby Aviation\" : \"https://www.jobyaviation.com/news/\", \"Archer Aviation\" : \"https://www.archer.com/news\"}"
   ]
  },
  {
   "cell_type": "code",
   "execution_count": 22,
   "id": "b395ec04",
   "metadata": {},
   "outputs": [
    {
     "name": "stderr",
     "output_type": "stream",
     "text": [
      "  0%|          | 0/5 [00:00<?, ?it/s]"
     ]
    },
    {
     "name": "stdout",
     "output_type": "stream",
     "text": [
      "Number of URLs found:  6\n"
     ]
    },
    {
     "name": "stderr",
     "output_type": "stream",
     "text": [
      " 20%|██        | 1/5 [00:09<00:38,  9.59s/it]"
     ]
    },
    {
     "name": "stdout",
     "output_type": "stream",
     "text": [
      "Number of URLs found:  6\n"
     ]
    },
    {
     "name": "stderr",
     "output_type": "stream",
     "text": [
      " 40%|████      | 2/5 [00:22<00:34, 11.45s/it]"
     ]
    },
    {
     "name": "stdout",
     "output_type": "stream",
     "text": [
      "Number of URLs found:  4\n"
     ]
    },
    {
     "name": "stderr",
     "output_type": "stream",
     "text": [
      " 60%|██████    | 3/5 [00:29<00:19,  9.54s/it]"
     ]
    },
    {
     "name": "stdout",
     "output_type": "stream",
     "text": [
      "Number of URLs found:  6\n",
      "ArticleException raised. Article.download() did not work for this article.\n"
     ]
    },
    {
     "name": "stderr",
     "output_type": "stream",
     "text": [
      " 80%|████████  | 4/5 [00:38<00:09,  9.27s/it]"
     ]
    },
    {
     "name": "stdout",
     "output_type": "stream",
     "text": [
      "Number of URLs found:  5\n"
     ]
    },
    {
     "name": "stderr",
     "output_type": "stream",
     "text": [
      "100%|██████████| 5/5 [00:46<00:00,  9.25s/it]\n"
     ]
    }
   ],
   "source": [
    "url = 'https://www.beta.team/developments/page/'\n",
    "scraped_data = []\n",
    "\n",
    "for page in tqdm(range(1,6)):\n",
    "    req = requests.get(url + str(page) + '/')\n",
    "    soup = BeautifulSoup(req.text, parse_only=SoupStrainer('a'))\n",
    "  \n",
    "    links = soup.find_all('a', class_=\"beta-development-card\", attrs={\"href\"})\n",
    "    print(\"Number of URLs found: \", len(links))\n",
    "    for l in links:\n",
    "      if l.has_attr(\"href\"):\n",
    "        link = l['href']\n",
    "        article = Article(link)\n",
    "        try:\n",
    "          article.download()\n",
    "          article.parse()\n",
    "          scraped_data.append([link, article.text, article.title, article.publish_date, article.summary])\n",
    "        except ArticleException:\n",
    "          print(\"ArticleException raised. Article.download() did not work for this article.\")\n",
    "    \n",
    "    sleep(randint(2, 10))"
   ]
  },
  {
   "cell_type": "code",
   "execution_count": 23,
   "id": "cb968161",
   "metadata": {},
   "outputs": [
    {
     "data": {
      "text/html": [
       "<div>\n",
       "<style scoped>\n",
       "    .dataframe tbody tr th:only-of-type {\n",
       "        vertical-align: middle;\n",
       "    }\n",
       "\n",
       "    .dataframe tbody tr th {\n",
       "        vertical-align: top;\n",
       "    }\n",
       "\n",
       "    .dataframe thead th {\n",
       "        text-align: right;\n",
       "    }\n",
       "</style>\n",
       "<table border=\"1\" class=\"dataframe\">\n",
       "  <thead>\n",
       "    <tr style=\"text-align: right;\">\n",
       "      <th></th>\n",
       "      <th>URL</th>\n",
       "      <th>text</th>\n",
       "      <th>title</th>\n",
       "      <th>published_date</th>\n",
       "      <th>summary</th>\n",
       "    </tr>\n",
       "  </thead>\n",
       "  <tbody>\n",
       "    <tr>\n",
       "      <th>0</th>\n",
       "      <td>https://www.futureflight.aero/news-article/202...</td>\n",
       "      <td>The U.S. Army is to support flight testing of ...</td>\n",
       "      <td>U.S. Army Looks To Enlist Beta's Alia eVTOL wi...</td>\n",
       "      <td>2022-01-31 00:00:00</td>\n",
       "      <td></td>\n",
       "    </tr>\n",
       "    <tr>\n",
       "      <th>1</th>\n",
       "      <td>https://www.cae.com/news-events/press-releases...</td>\n",
       "      <td>• CAE and BETA to partner and create best in c...</td>\n",
       "      <td>CAE</td>\n",
       "      <td>None</td>\n",
       "      <td></td>\n",
       "    </tr>\n",
       "    <tr>\n",
       "      <th>2</th>\n",
       "      <td>https://evtol.com/features/why-evtol-developer...</td>\n",
       "      <td>When many people contemplate the benefits of a...</td>\n",
       "      <td>Why eVTOL developer Beta gives its employees f...</td>\n",
       "      <td>None</td>\n",
       "      <td></td>\n",
       "    </tr>\n",
       "    <tr>\n",
       "      <th>3</th>\n",
       "      <td>https://evtol.com/video/martine-rothblatt-flie...</td>\n",
       "      <td>Martine Rothblatt, CEO of the biotechnology co...</td>\n",
       "      <td>Martine Rothblatt Flies Beta’s Alia</td>\n",
       "      <td>None</td>\n",
       "      <td></td>\n",
       "    </tr>\n",
       "    <tr>\n",
       "      <th>4</th>\n",
       "      <td>https://www.burlingtonfreepress.com/story/news...</td>\n",
       "      <td>Update: This story has been updated to reflect...</td>\n",
       "      <td>Ready for takeoff: Vermont nonprofit wants to ...</td>\n",
       "      <td>2021-06-08 00:00:00</td>\n",
       "      <td></td>\n",
       "    </tr>\n",
       "  </tbody>\n",
       "</table>\n",
       "</div>"
      ],
      "text/plain": [
       "                                                 URL  \\\n",
       "0  https://www.futureflight.aero/news-article/202...   \n",
       "1  https://www.cae.com/news-events/press-releases...   \n",
       "2  https://evtol.com/features/why-evtol-developer...   \n",
       "3  https://evtol.com/video/martine-rothblatt-flie...   \n",
       "4  https://www.burlingtonfreepress.com/story/news...   \n",
       "\n",
       "                                                text  \\\n",
       "0  The U.S. Army is to support flight testing of ...   \n",
       "1  • CAE and BETA to partner and create best in c...   \n",
       "2  When many people contemplate the benefits of a...   \n",
       "3  Martine Rothblatt, CEO of the biotechnology co...   \n",
       "4  Update: This story has been updated to reflect...   \n",
       "\n",
       "                                               title       published_date  \\\n",
       "0  U.S. Army Looks To Enlist Beta's Alia eVTOL wi...  2022-01-31 00:00:00   \n",
       "1                                                CAE                 None   \n",
       "2  Why eVTOL developer Beta gives its employees f...                 None   \n",
       "3                Martine Rothblatt Flies Beta’s Alia                 None   \n",
       "4  Ready for takeoff: Vermont nonprofit wants to ...  2021-06-08 00:00:00   \n",
       "\n",
       "  summary  \n",
       "0          \n",
       "1          \n",
       "2          \n",
       "3          \n",
       "4          "
      ]
     },
     "execution_count": 23,
     "metadata": {},
     "output_type": "execute_result"
    }
   ],
   "source": [
    "df = pd.DataFrame(scraped_data, columns = ['URL', 'text', 'title', 'published_date', 'summary'])\n",
    "df.head()"
   ]
  },
  {
   "cell_type": "code",
   "execution_count": 24,
   "id": "531ade8e",
   "metadata": {},
   "outputs": [],
   "source": [
    "df.to_csv(\"beta_announcements.csv\")"
   ]
  },
  {
   "cell_type": "code",
   "execution_count": 5,
   "id": "60bc88e2",
   "metadata": {},
   "outputs": [],
   "source": [
    "driver = webdriver.Chrome()\n",
    "driver.get(\"https://www.archer.com/news\")"
   ]
  },
  {
   "cell_type": "code",
   "execution_count": null,
   "id": "42bd4d91",
   "metadata": {},
   "outputs": [],
   "source": [
    "load_more_exists = True\n",
    "\n",
    "while load_more_exists:\n",
    "    try:\n",
    "        load_more_button = driver.find_element_by_xpath(\"//button[contains(text(), 'LOAD MORE ARCHER NEWS')]\")\n",
    "        sleep(randint(2, 10))\n",
    "        load_more_button.click()\n",
    "        sleep(randint(2, 10))\n",
    "    except Exception as e:\n",
    "        print(e)\n",
    "        load_more_exists = False\n",
    "\n",
    "scraped_data = []\n",
    "\n",
    "  \n",
    "req = requests.get(url + str(page) + '/')\n",
    "soup = BeautifulSoup(req.text, parse_only=SoupStrainer('a'))\n",
    "\n",
    "links = soup.find_all('a', class_=\"beta-development-card\", attrs={\"href\"})\n",
    "print(\"Number of URLs found: \", len(links))\n",
    "for l in links:\n",
    "  if l.has_attr(\"href\"):\n",
    "    link = l['href']\n",
    "    article = Article(link)\n",
    "    try:\n",
    "      article.download()\n",
    "      article.parse()\n",
    "      scraped_data.append([link, article.text, article.title, article.publish_date, article.summary])\n",
    "    except ArticleException:\n",
    "      print(\"ArticleException raised. Article.download() did not work for this article.\")\n",
    "\n",
    "# Stretch goal: download MySQL to store full-text indexed tables and query from them\n",
    "\n",
    "sleep(randint(2, 10))"
   ]
  }
 ],
 "metadata": {
  "kernelspec": {
   "display_name": "Python 3",
   "language": "python",
   "name": "python3"
  },
  "language_info": {
   "codemirror_mode": {
    "name": "ipython",
    "version": 3
   },
   "file_extension": ".py",
   "mimetype": "text/x-python",
   "name": "python",
   "nbconvert_exporter": "python",
   "pygments_lexer": "ipython3",
   "version": "3.8.10"
  }
 },
 "nbformat": 4,
 "nbformat_minor": 5
}
