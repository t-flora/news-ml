{
 "cells": [
  {
   "cell_type": "code",
   "execution_count": 1,
   "id": "03ab39ff",
   "metadata": {},
   "outputs": [],
   "source": [
    "from selenium import webdriver\n",
    "from selenium.common.exceptions import NoSuchElementException, \\\n",
    "    WebDriverException\n",
    "# from selenium.webdriver.common.keys import Keys\n",
    "import requests\n",
    "from random import randint\n",
    "from time import sleep\n",
    "from bs4 import BeautifulSoup, SoupStrainer\n",
    "import pandas as pd\n",
    "from newspaper import Article\n",
    "from newspaper import ArticleException\n",
    "from newspaper import Config\n",
    "from tqdm import tqdm\n",
    "\n",
    "config = Config()\n",
    "config.request_timeout = 10"
   ]
  },
  {
   "cell_type": "code",
   "execution_count": 2,
   "id": "c1ddcf02",
   "metadata": {},
   "outputs": [],
   "source": [
    "news_pages = {\"BETA\" : 'https://www.beta.team/developments/page/', \"Vertical Aerospace\" : \"https://vertical-aerospace.com/news/\",\\\n",
    "    \"Joby Aviation\" : \"https://www.jobyaviation.com/news/\", \"Archer Aviation\" : \"https://www.archer.com/news\"}"
   ]
  },
  {
   "cell_type": "code",
   "execution_count": 22,
   "id": "b395ec04",
   "metadata": {},
   "outputs": [
    {
     "name": "stderr",
     "output_type": "stream",
     "text": [
      "  0%|          | 0/5 [00:00<?, ?it/s]"
     ]
    },
    {
     "name": "stdout",
     "output_type": "stream",
     "text": [
      "Number of URLs found:  6\n"
     ]
    },
    {
     "name": "stderr",
     "output_type": "stream",
     "text": [
      " 20%|██        | 1/5 [00:09<00:38,  9.59s/it]"
     ]
    },
    {
     "name": "stdout",
     "output_type": "stream",
     "text": [
      "Number of URLs found:  6\n"
     ]
    },
    {
     "name": "stderr",
     "output_type": "stream",
     "text": [
      " 40%|████      | 2/5 [00:22<00:34, 11.45s/it]"
     ]
    },
    {
     "name": "stdout",
     "output_type": "stream",
     "text": [
      "Number of URLs found:  4\n"
     ]
    },
    {
     "name": "stderr",
     "output_type": "stream",
     "text": [
      " 60%|██████    | 3/5 [00:29<00:19,  9.54s/it]"
     ]
    },
    {
     "name": "stdout",
     "output_type": "stream",
     "text": [
      "Number of URLs found:  6\n",
      "ArticleException raised. Article.download() did not work for this article.\n"
     ]
    },
    {
     "name": "stderr",
     "output_type": "stream",
     "text": [
      " 80%|████████  | 4/5 [00:38<00:09,  9.27s/it]"
     ]
    },
    {
     "name": "stdout",
     "output_type": "stream",
     "text": [
      "Number of URLs found:  5\n"
     ]
    },
    {
     "name": "stderr",
     "output_type": "stream",
     "text": [
      "100%|██████████| 5/5 [00:46<00:00,  9.25s/it]\n"
     ]
    }
   ],
   "source": [
    "# browser = webdriver.Chrome(\"chromedriver.exe\")\n",
    "\n",
    "# browser.get(\"https://www.beta.team/developments/page/\")\n",
    "\n",
    "url = 'https://www.beta.team/developments/page/'\n",
    "scraped_data = []\n",
    "\n",
    "for page in tqdm(range(1,6)):\n",
    "      # pls note that the total number of\n",
    "    # pages in the website is more than 5000 so i'm only taking the\n",
    "    # first 10 as this is just an example\n",
    "  \n",
    "    req = requests.get(url + str(page) + '/')\n",
    "    soup = BeautifulSoup(req.text, parse_only=SoupStrainer('a'))\n",
    "  \n",
    "    links = soup.find_all('a', class_=\"beta-development-card\", attrs={\"href\"})\n",
    "    print(\"Number of URLs found: \", len(links))\n",
    "    for l in links:\n",
    "      if l.has_attr(\"href\"):\n",
    "        link = l['href']\n",
    "        article = Article(link)\n",
    "        try:\n",
    "          article.download()\n",
    "          article.parse()\n",
    "          scraped_data.append([link, article.text, article.title, article.publish_date, article.summary])\n",
    "        except ArticleException:\n",
    "          print(\"ArticleException raised. Article.download() did not work for this article.\")\n",
    "    \n",
    "    # Stretch goal: download MySQL to store full-text indexed tables and query from them\n",
    "\n",
    "    sleep(randint(2, 10))\n",
    "\n",
    "# i = 1\n",
    "# while i < 10:\n",
    "#     if \n",
    "#     browser.get(add_page_num(i))\n",
    "# time.sleep(5)\n",
    "# source = browser.page_source\n",
    "# soup = bs(source, 'lxml')"
   ]
  },
  {
   "cell_type": "code",
   "execution_count": 23,
   "id": "cb968161",
   "metadata": {},
   "outputs": [
    {
     "data": {
      "text/html": [
       "<div>\n",
       "<style scoped>\n",
       "    .dataframe tbody tr th:only-of-type {\n",
       "        vertical-align: middle;\n",
       "    }\n",
       "\n",
       "    .dataframe tbody tr th {\n",
       "        vertical-align: top;\n",
       "    }\n",
       "\n",
       "    .dataframe thead th {\n",
       "        text-align: right;\n",
       "    }\n",
       "</style>\n",
       "<table border=\"1\" class=\"dataframe\">\n",
       "  <thead>\n",
       "    <tr style=\"text-align: right;\">\n",
       "      <th></th>\n",
       "      <th>URL</th>\n",
       "      <th>text</th>\n",
       "      <th>title</th>\n",
       "      <th>published_date</th>\n",
       "      <th>summary</th>\n",
       "    </tr>\n",
       "  </thead>\n",
       "  <tbody>\n",
       "    <tr>\n",
       "      <th>0</th>\n",
       "      <td>https://www.futureflight.aero/news-article/202...</td>\n",
       "      <td>The U.S. Army is to support flight testing of ...</td>\n",
       "      <td>U.S. Army Looks To Enlist Beta's Alia eVTOL wi...</td>\n",
       "      <td>2022-01-31 00:00:00</td>\n",
       "      <td></td>\n",
       "    </tr>\n",
       "    <tr>\n",
       "      <th>1</th>\n",
       "      <td>https://www.cae.com/news-events/press-releases...</td>\n",
       "      <td>• CAE and BETA to partner and create best in c...</td>\n",
       "      <td>CAE</td>\n",
       "      <td>None</td>\n",
       "      <td></td>\n",
       "    </tr>\n",
       "    <tr>\n",
       "      <th>2</th>\n",
       "      <td>https://evtol.com/features/why-evtol-developer...</td>\n",
       "      <td>When many people contemplate the benefits of a...</td>\n",
       "      <td>Why eVTOL developer Beta gives its employees f...</td>\n",
       "      <td>None</td>\n",
       "      <td></td>\n",
       "    </tr>\n",
       "    <tr>\n",
       "      <th>3</th>\n",
       "      <td>https://evtol.com/video/martine-rothblatt-flie...</td>\n",
       "      <td>Martine Rothblatt, CEO of the biotechnology co...</td>\n",
       "      <td>Martine Rothblatt Flies Beta’s Alia</td>\n",
       "      <td>None</td>\n",
       "      <td></td>\n",
       "    </tr>\n",
       "    <tr>\n",
       "      <th>4</th>\n",
       "      <td>https://www.burlingtonfreepress.com/story/news...</td>\n",
       "      <td>Update: This story has been updated to reflect...</td>\n",
       "      <td>Ready for takeoff: Vermont nonprofit wants to ...</td>\n",
       "      <td>2021-06-08 00:00:00</td>\n",
       "      <td></td>\n",
       "    </tr>\n",
       "  </tbody>\n",
       "</table>\n",
       "</div>"
      ],
      "text/plain": [
       "                                                 URL  \\\n",
       "0  https://www.futureflight.aero/news-article/202...   \n",
       "1  https://www.cae.com/news-events/press-releases...   \n",
       "2  https://evtol.com/features/why-evtol-developer...   \n",
       "3  https://evtol.com/video/martine-rothblatt-flie...   \n",
       "4  https://www.burlingtonfreepress.com/story/news...   \n",
       "\n",
       "                                                text  \\\n",
       "0  The U.S. Army is to support flight testing of ...   \n",
       "1  • CAE and BETA to partner and create best in c...   \n",
       "2  When many people contemplate the benefits of a...   \n",
       "3  Martine Rothblatt, CEO of the biotechnology co...   \n",
       "4  Update: This story has been updated to reflect...   \n",
       "\n",
       "                                               title       published_date  \\\n",
       "0  U.S. Army Looks To Enlist Beta's Alia eVTOL wi...  2022-01-31 00:00:00   \n",
       "1                                                CAE                 None   \n",
       "2  Why eVTOL developer Beta gives its employees f...                 None   \n",
       "3                Martine Rothblatt Flies Beta’s Alia                 None   \n",
       "4  Ready for takeoff: Vermont nonprofit wants to ...  2021-06-08 00:00:00   \n",
       "\n",
       "  summary  \n",
       "0          \n",
       "1          \n",
       "2          \n",
       "3          \n",
       "4          "
      ]
     },
     "execution_count": 23,
     "metadata": {},
     "output_type": "execute_result"
    }
   ],
   "source": [
    "df = pd.DataFrame(scraped_data, columns = ['URL', 'text', 'title', 'published_date', 'summary'])\n",
    "df.head()"
   ]
  },
  {
   "cell_type": "code",
   "execution_count": 24,
   "id": "531ade8e",
   "metadata": {},
   "outputs": [],
   "source": [
    "df.to_csv(\"beta_announcements.csv\")"
   ]
  },
  {
   "cell_type": "code",
   "execution_count": 5,
   "id": "60bc88e2",
   "metadata": {},
   "outputs": [],
   "source": [
    "driver = webdriver.Chrome()\n",
    "driver.get(\"https://www.archer.com/news\")"
   ]
  },
  {
   "cell_type": "code",
   "execution_count": null,
   "id": "42bd4d91",
   "metadata": {},
   "outputs": [],
   "source": [
    "load_more_exists = True\n",
    "\n",
    "while load_more_exists:\n",
    "    try:\n",
    "        load_more_button = driver.find_element_by_xpath(\"//button[contains(text(), 'LOAD MORE ARCHER NEWS')]\")\n",
    "        sleep(randint(2, 10))\n",
    "        load_more_button.click()\n",
    "        sleep(randint(2, 10))\n",
    "    except Exception as e:\n",
    "        print(e)\n",
    "        load_more_exists = False\n",
    "\n",
    "scraped_data = []\n",
    "\n",
    "  \n",
    "req = requests.get(url + str(page) + '/')\n",
    "soup = BeautifulSoup(req.text, parse_only=SoupStrainer('a'))\n",
    "\n",
    "links = soup.find_all('a', class_=\"beta-development-card\", attrs={\"href\"})\n",
    "print(\"Number of URLs found: \", len(links))\n",
    "for l in links:\n",
    "  if l.has_attr(\"href\"):\n",
    "    link = l['href']\n",
    "    article = Article(link)\n",
    "    try:\n",
    "      article.download()\n",
    "      article.parse()\n",
    "      scraped_data.append([link, article.text, article.title, article.publish_date, article.summary])\n",
    "    except ArticleException:\n",
    "      print(\"ArticleException raised. Article.download() did not work for this article.\")\n",
    "\n",
    "# Stretch goal: download MySQL to store full-text indexed tables and query from them\n",
    "\n",
    "sleep(randint(2, 10))"
   ]
  },
  {
   "cell_type": "code",
   "execution_count": 7,
   "id": "d8a35fb2",
   "metadata": {},
   "outputs": [],
   "source": []
  },
  {
   "cell_type": "code",
   "execution_count": 8,
   "id": "81ee2ed1",
   "metadata": {},
   "outputs": [
    {
     "name": "stderr",
     "output_type": "stream",
     "text": [
      "C:\\Users\\BAPCOST\\AppData\\Local\\Temp/ipykernel_7716/3005742120.py:3: DeprecationWarning: find_elements_by_* commands are deprecated. Please use find_elements() instead\n",
      "  URLs = navegador.find_elements_by_xpath(\"//a[@href]\")\n"
     ]
    },
    {
     "name": "stdout",
     "output_type": "stream",
     "text": [
      "https://www.beta.team/\n",
      "https://www.beta.team/aircraft/\n",
      "https://www.beta.team/recharge/\n",
      "https://www.beta.team/flight-training/\n",
      "https://www.beta.team/team/\n",
      "https://www.beta.team/developments/\n",
      "https://www.beta.team/careers/\n",
      "https://www.beta.team/contact/\n",
      "https://www.beta.team/carrieres/?lang=fr\n",
      "https://www.beta.team/aircraft/\n",
      "https://www.beta.team/recharge/\n",
      "https://www.beta.team/flight-training/\n",
      "https://www.beta.team/team/\n",
      "https://www.beta.team/developments/\n",
      "https://www.beta.team/careers/\n",
      "https://www.beta.team/contact/\n",
      "https://www.beta.team/carrieres/?lang=fr\n",
      "https://www.beta.team/job/?jobId=da63f018-23d6-4364-ab47-c0877db1b6b9\n",
      "https://www.beta.team/job/?jobId=7af68a53-0100-45cb-9545-3e84d2089003\n",
      "https://www.beta.team/job/?jobId=02ae8a1f-e77e-4454-8726-8d825642ac4d\n",
      "https://www.beta.team/job/?jobId=0a63c140-5c4b-4fe5-a3a7-f5a8677b7502\n",
      "https://www.beta.team/job/?jobId=3a99ba1d-e193-444c-bd74-ba77621d2af7\n",
      "https://www.beta.team/job/?jobId=d56ec1f9-bcf5-4541-90cc-41e41c9982fa\n",
      "https://www.beta.team/job/?jobId=5200be20-3f2b-432d-866d-5ddfa9d51fd6\n",
      "https://www.beta.team/job/?jobId=9a8887ef-5168-4f53-9df8-74a5ceb35f6b\n",
      "https://www.beta.team/job/?jobId=20548749-22a6-4179-b2e2-c96072886565\n",
      "https://www.beta.team/job/?jobId=e7222159-b93e-49a0-8263-e39c81f04174\n",
      "https://www.beta.team/job/?jobId=1cdb058c-ab77-4516-b262-7d0dc41fb197\n",
      "https://www.beta.team/job/?jobId=9335d728-094b-4cc8-ba68-68f6a0f2d6da\n",
      "https://www.beta.team/job/?jobId=52a73837-9db2-4194-8c10-19092be773bc\n",
      "https://www.beta.team/job/?jobId=3b62ec03-aced-4733-acba-acc4aeda7e05\n",
      "https://www.beta.team/job/?jobId=6cccf35e-fd91-49ae-84eb-7c736d901a1f\n",
      "https://www.beta.team/job/?jobId=c7aa6dde-2439-401a-abd6-3e8b95aa3fd8\n",
      "https://www.beta.team/job/?jobId=1aa1a275-db0e-44ac-b0fe-3e0130bc55ba\n",
      "https://www.beta.team/job/?jobId=cde9e1a9-aaf9-4ef1-b618-1119bf7fff0d\n",
      "https://www.beta.team/job/?jobId=9630b58f-b380-4f44-aec3-4f8aeae50689\n",
      "https://www.beta.team/job/?jobId=c190b293-5ea3-4d73-8d4f-8e1d7355f4e0\n",
      "https://www.beta.team/job/?jobId=bb714bba-c41a-4e84-8d24-64a04b950c82\n",
      "https://www.beta.team/job/?jobId=e68a5ee8-9fd5-454e-9edf-acc6d330e4df\n",
      "https://www.beta.team/job/?jobId=dbe5dbd0-41a8-4e01-bbb5-803aff046ea3\n",
      "https://www.beta.team/job/?jobId=e2b6c428-2f1f-4d03-8b25-14cb0cb96ab5\n",
      "https://www.beta.team/job/?jobId=b17d6201-dcae-4a35-b1a8-935480e2fe40\n",
      "https://www.beta.team/job/?jobId=a8978851-9bb4-463f-9a4d-be9e6b2de682\n",
      "https://www.beta.team/job/?jobId=5882b547-fbaa-4d82-88d9-16d7b81f8071\n",
      "https://www.beta.team/job/?jobId=4e2fd566-e52d-4e92-b4b7-1af84e0f3ebd\n",
      "https://www.beta.team/job/?jobId=a328fe57-ede3-4e05-b03c-f7c822a3a99b\n",
      "https://www.beta.team/job/?jobId=e5461918-1f9c-40c2-a076-d636df0f59f4\n",
      "https://www.beta.team/job/?jobId=2343cfc4-aac7-4478-9bb5-b2f7fed72b73\n",
      "https://www.beta.team/job/?jobId=ba53fa19-b333-4cf7-87f2-cae3fb7ce863\n",
      "https://www.beta.team/job/?jobId=5a140e93-cee1-4fde-9139-6c6483fd1ad0\n",
      "https://www.beta.team/job/?jobId=c643ba27-db46-4a50-b7f7-e153001896cb\n",
      "https://www.beta.team/job/?jobId=c04cfb2b-bbef-491c-a8b5-f9f99b42fa32\n",
      "https://www.beta.team/job/?jobId=8e6a94a3-338c-4964-ac5c-31056b03972a\n",
      "https://www.beta.team/job/?jobId=eb0faf83-3dac-4eb0-a3a9-f41adb48ccf1\n",
      "https://www.beta.team/job/?jobId=e9211f85-8ec1-44f8-9305-371bc4188648\n",
      "https://www.beta.team/job/?jobId=55b6336c-7ce2-4639-a058-e239c180ccc9\n",
      "https://www.beta.team/job/?jobId=f50905e0-64a4-4941-9a36-587e363bb3b3\n",
      "https://www.beta.team/job/?jobId=352e8edc-96fc-422d-a346-c426c4185f66\n",
      "https://www.beta.team/job/?jobId=b5701549-e2aa-4a0f-99c5-c6f138a250b7\n",
      "https://www.beta.team/job/?jobId=5e32b2da-878b-42e9-8751-7aaba02b6a68\n",
      "https://www.beta.team/job/?jobId=0df26191-3cdf-4e44-a711-d33e4d2f0562\n",
      "https://www.beta.team/job/?jobId=f4d18ed2-0d11-4e80-b451-f2feef1be50e\n",
      "https://www.beta.team/job/?jobId=5562cb79-9af3-4dd7-8153-e2aecb4f829f\n",
      "https://www.beta.team/job/?jobId=e9ad3f3a-0527-4a6b-a0ae-f0b0e4d71cf1\n",
      "https://www.beta.team/job/?jobId=29cea0c3-6f82-4683-8d96-4c67030011aa\n",
      "https://www.beta.team/job/?jobId=212bff6b-e43a-49a4-b23b-389f714b2490\n",
      "https://www.beta.team/job/?jobId=27dfc074-2a9c-4979-94f9-6af4211bf051\n",
      "https://www.beta.team/job/?jobId=1577a6e6-78d0-4b89-b5ad-0c583e67c8ed\n",
      "https://www.beta.team/job/?jobId=50caf1b3-ae3a-4c01-a0b1-f006c4cfe2f3\n",
      "https://www.beta.team/job/?jobId=e85f700b-62f1-40a2-8d71-12befcb504cc\n",
      "https://www.beta.team/job/?jobId=59f1fb55-e703-4f1d-a87a-113cbbfb162c\n",
      "https://www.beta.team/job/?jobId=8a3fc34f-c7b6-46c0-9b2b-bf7a5dacd463\n",
      "https://www.beta.team/job/?jobId=d46bb648-6a47-479d-a5dd-c5a5b7ff5a8c\n",
      "https://www.instagram.com/beta.aircraft/\n",
      "https://www.linkedin.com/company/beta-air-llc\n",
      "https://www.facebook.com/BetaElectricAviation/\n",
      "https://www.google.com/maps/place/1150+Airport+Dr,+South+Burlington,+VT+05403/@44.4664016,-73.1568485,17z/data=!3m1!4b1!4m5!3m4!1s0x4cca7985970e4387:0x80739e04233d6a93!8m2!3d44.4664016!4d-73.1546598\n",
      "mailto:info@beta.team\n",
      "https://www.beta.team/media-kit\n",
      "https://www.beta.team/privacy-policy\n"
     ]
    }
   ],
   "source": []
  },
  {
   "cell_type": "code",
   "execution_count": 19,
   "id": "fc50c2d4",
   "metadata": {},
   "outputs": [],
   "source": []
  },
  {
   "cell_type": "code",
   "execution_count": 16,
   "id": "b8429545",
   "metadata": {},
   "outputs": [
    {
     "name": "stdout",
     "output_type": "stream",
     "text": [
      "56\n",
      "56\n",
      "56\n",
      "['https://www.beta.team/job/?jobId=da63f018-23d6-4364-ab47-c0877db1b6b9', 'https://www.beta.team/job/?jobId=7af68a53-0100-45cb-9545-3e84d2089003', 'https://www.beta.team/job/?jobId=02ae8a1f-e77e-4454-8726-8d825642ac4d', 'https://www.beta.team/job/?jobId=0a63c140-5c4b-4fe5-a3a7-f5a8677b7502', 'https://www.beta.team/job/?jobId=3a99ba1d-e193-444c-bd74-ba77621d2af7', 'https://www.beta.team/job/?jobId=d56ec1f9-bcf5-4541-90cc-41e41c9982fa', 'https://www.beta.team/job/?jobId=5200be20-3f2b-432d-866d-5ddfa9d51fd6', 'https://www.beta.team/job/?jobId=9a8887ef-5168-4f53-9df8-74a5ceb35f6b', 'https://www.beta.team/job/?jobId=20548749-22a6-4179-b2e2-c96072886565', 'https://www.beta.team/job/?jobId=e7222159-b93e-49a0-8263-e39c81f04174', 'https://www.beta.team/job/?jobId=1cdb058c-ab77-4516-b262-7d0dc41fb197', 'https://www.beta.team/job/?jobId=9335d728-094b-4cc8-ba68-68f6a0f2d6da', 'https://www.beta.team/job/?jobId=52a73837-9db2-4194-8c10-19092be773bc', 'https://www.beta.team/job/?jobId=3b62ec03-aced-4733-acba-acc4aeda7e05', 'https://www.beta.team/job/?jobId=6cccf35e-fd91-49ae-84eb-7c736d901a1f', 'https://www.beta.team/job/?jobId=c7aa6dde-2439-401a-abd6-3e8b95aa3fd8', 'https://www.beta.team/job/?jobId=1aa1a275-db0e-44ac-b0fe-3e0130bc55ba', 'https://www.beta.team/job/?jobId=cde9e1a9-aaf9-4ef1-b618-1119bf7fff0d', 'https://www.beta.team/job/?jobId=9630b58f-b380-4f44-aec3-4f8aeae50689', 'https://www.beta.team/job/?jobId=c190b293-5ea3-4d73-8d4f-8e1d7355f4e0', 'https://www.beta.team/job/?jobId=bb714bba-c41a-4e84-8d24-64a04b950c82', 'https://www.beta.team/job/?jobId=e68a5ee8-9fd5-454e-9edf-acc6d330e4df', 'https://www.beta.team/job/?jobId=dbe5dbd0-41a8-4e01-bbb5-803aff046ea3', 'https://www.beta.team/job/?jobId=e2b6c428-2f1f-4d03-8b25-14cb0cb96ab5', 'https://www.beta.team/job/?jobId=b17d6201-dcae-4a35-b1a8-935480e2fe40', 'https://www.beta.team/job/?jobId=a8978851-9bb4-463f-9a4d-be9e6b2de682', 'https://www.beta.team/job/?jobId=5882b547-fbaa-4d82-88d9-16d7b81f8071', 'https://www.beta.team/job/?jobId=4e2fd566-e52d-4e92-b4b7-1af84e0f3ebd', 'https://www.beta.team/job/?jobId=a328fe57-ede3-4e05-b03c-f7c822a3a99b', 'https://www.beta.team/job/?jobId=e5461918-1f9c-40c2-a076-d636df0f59f4', 'https://www.beta.team/job/?jobId=2343cfc4-aac7-4478-9bb5-b2f7fed72b73', 'https://www.beta.team/job/?jobId=ba53fa19-b333-4cf7-87f2-cae3fb7ce863', 'https://www.beta.team/job/?jobId=5a140e93-cee1-4fde-9139-6c6483fd1ad0', 'https://www.beta.team/job/?jobId=c643ba27-db46-4a50-b7f7-e153001896cb', 'https://www.beta.team/job/?jobId=c04cfb2b-bbef-491c-a8b5-f9f99b42fa32', 'https://www.beta.team/job/?jobId=8e6a94a3-338c-4964-ac5c-31056b03972a', 'https://www.beta.team/job/?jobId=eb0faf83-3dac-4eb0-a3a9-f41adb48ccf1', 'https://www.beta.team/job/?jobId=e9211f85-8ec1-44f8-9305-371bc4188648', 'https://www.beta.team/job/?jobId=55b6336c-7ce2-4639-a058-e239c180ccc9', 'https://www.beta.team/job/?jobId=f50905e0-64a4-4941-9a36-587e363bb3b3', 'https://www.beta.team/job/?jobId=352e8edc-96fc-422d-a346-c426c4185f66', 'https://www.beta.team/job/?jobId=b5701549-e2aa-4a0f-99c5-c6f138a250b7', 'https://www.beta.team/job/?jobId=5e32b2da-878b-42e9-8751-7aaba02b6a68', 'https://www.beta.team/job/?jobId=0df26191-3cdf-4e44-a711-d33e4d2f0562', 'https://www.beta.team/job/?jobId=f4d18ed2-0d11-4e80-b451-f2feef1be50e', 'https://www.beta.team/job/?jobId=5562cb79-9af3-4dd7-8153-e2aecb4f829f', 'https://www.beta.team/job/?jobId=e9ad3f3a-0527-4a6b-a0ae-f0b0e4d71cf1', 'https://www.beta.team/job/?jobId=29cea0c3-6f82-4683-8d96-4c67030011aa', 'https://www.beta.team/job/?jobId=212bff6b-e43a-49a4-b23b-389f714b2490', 'https://www.beta.team/job/?jobId=27dfc074-2a9c-4979-94f9-6af4211bf051', 'https://www.beta.team/job/?jobId=1577a6e6-78d0-4b89-b5ad-0c583e67c8ed', 'https://www.beta.team/job/?jobId=50caf1b3-ae3a-4c01-a0b1-f006c4cfe2f3', 'https://www.beta.team/job/?jobId=e85f700b-62f1-40a2-8d71-12befcb504cc', 'https://www.beta.team/job/?jobId=59f1fb55-e703-4f1d-a87a-113cbbfb162c', 'https://www.beta.team/job/?jobId=8a3fc34f-c7b6-46c0-9b2b-bf7a5dacd463', 'https://www.beta.team/job/?jobId=d46bb648-6a47-479d-a5dd-c5a5b7ff5a8c']\n"
     ]
    }
   ],
   "source": []
  },
  {
   "cell_type": "code",
   "execution_count": 13,
   "id": "6a5fd65f",
   "metadata": {},
   "outputs": [],
   "source": []
  },
  {
   "cell_type": "code",
   "execution_count": 14,
   "id": "3c9253c5",
   "metadata": {},
   "outputs": [
    {
     "name": "stdout",
     "output_type": "stream",
     "text": [
      "https://www.beta.team/job/?jobId=da63f018-23d6-4364-ab47-c0877db1b6b9\n",
      "https://www.beta.team/job/?jobId=7af68a53-0100-45cb-9545-3e84d2089003\n",
      "https://www.beta.team/job/?jobId=02ae8a1f-e77e-4454-8726-8d825642ac4d\n",
      "https://www.beta.team/job/?jobId=0a63c140-5c4b-4fe5-a3a7-f5a8677b7502\n",
      "https://www.beta.team/job/?jobId=3a99ba1d-e193-444c-bd74-ba77621d2af7\n",
      "https://www.beta.team/job/?jobId=d56ec1f9-bcf5-4541-90cc-41e41c9982fa\n",
      "https://www.beta.team/job/?jobId=5200be20-3f2b-432d-866d-5ddfa9d51fd6\n",
      "https://www.beta.team/job/?jobId=9a8887ef-5168-4f53-9df8-74a5ceb35f6b\n",
      "https://www.beta.team/job/?jobId=20548749-22a6-4179-b2e2-c96072886565\n",
      "https://www.beta.team/job/?jobId=e7222159-b93e-49a0-8263-e39c81f04174\n",
      "https://www.beta.team/job/?jobId=1cdb058c-ab77-4516-b262-7d0dc41fb197\n",
      "https://www.beta.team/job/?jobId=9335d728-094b-4cc8-ba68-68f6a0f2d6da\n",
      "https://www.beta.team/job/?jobId=52a73837-9db2-4194-8c10-19092be773bc\n",
      "https://www.beta.team/job/?jobId=3b62ec03-aced-4733-acba-acc4aeda7e05\n",
      "https://www.beta.team/job/?jobId=6cccf35e-fd91-49ae-84eb-7c736d901a1f\n",
      "https://www.beta.team/job/?jobId=c7aa6dde-2439-401a-abd6-3e8b95aa3fd8\n",
      "https://www.beta.team/job/?jobId=1aa1a275-db0e-44ac-b0fe-3e0130bc55ba\n",
      "https://www.beta.team/job/?jobId=cde9e1a9-aaf9-4ef1-b618-1119bf7fff0d\n",
      "https://www.beta.team/job/?jobId=9630b58f-b380-4f44-aec3-4f8aeae50689\n",
      "https://www.beta.team/job/?jobId=c190b293-5ea3-4d73-8d4f-8e1d7355f4e0\n",
      "https://www.beta.team/job/?jobId=bb714bba-c41a-4e84-8d24-64a04b950c82\n",
      "https://www.beta.team/job/?jobId=e68a5ee8-9fd5-454e-9edf-acc6d330e4df\n",
      "https://www.beta.team/job/?jobId=dbe5dbd0-41a8-4e01-bbb5-803aff046ea3\n",
      "https://www.beta.team/job/?jobId=e2b6c428-2f1f-4d03-8b25-14cb0cb96ab5\n",
      "https://www.beta.team/job/?jobId=b17d6201-dcae-4a35-b1a8-935480e2fe40\n",
      "https://www.beta.team/job/?jobId=a8978851-9bb4-463f-9a4d-be9e6b2de682\n",
      "https://www.beta.team/job/?jobId=5882b547-fbaa-4d82-88d9-16d7b81f8071\n",
      "https://www.beta.team/job/?jobId=4e2fd566-e52d-4e92-b4b7-1af84e0f3ebd\n",
      "https://www.beta.team/job/?jobId=a328fe57-ede3-4e05-b03c-f7c822a3a99b\n",
      "https://www.beta.team/job/?jobId=e5461918-1f9c-40c2-a076-d636df0f59f4\n",
      "https://www.beta.team/job/?jobId=2343cfc4-aac7-4478-9bb5-b2f7fed72b73\n",
      "https://www.beta.team/job/?jobId=ba53fa19-b333-4cf7-87f2-cae3fb7ce863\n",
      "https://www.beta.team/job/?jobId=5a140e93-cee1-4fde-9139-6c6483fd1ad0\n",
      "https://www.beta.team/job/?jobId=c643ba27-db46-4a50-b7f7-e153001896cb\n",
      "https://www.beta.team/job/?jobId=c04cfb2b-bbef-491c-a8b5-f9f99b42fa32\n",
      "https://www.beta.team/job/?jobId=8e6a94a3-338c-4964-ac5c-31056b03972a\n",
      "https://www.beta.team/job/?jobId=eb0faf83-3dac-4eb0-a3a9-f41adb48ccf1\n",
      "https://www.beta.team/job/?jobId=e9211f85-8ec1-44f8-9305-371bc4188648\n",
      "https://www.beta.team/job/?jobId=55b6336c-7ce2-4639-a058-e239c180ccc9\n",
      "https://www.beta.team/job/?jobId=f50905e0-64a4-4941-9a36-587e363bb3b3\n",
      "https://www.beta.team/job/?jobId=352e8edc-96fc-422d-a346-c426c4185f66\n",
      "https://www.beta.team/job/?jobId=b5701549-e2aa-4a0f-99c5-c6f138a250b7\n",
      "https://www.beta.team/job/?jobId=5e32b2da-878b-42e9-8751-7aaba02b6a68\n",
      "https://www.beta.team/job/?jobId=0df26191-3cdf-4e44-a711-d33e4d2f0562\n",
      "https://www.beta.team/job/?jobId=f4d18ed2-0d11-4e80-b451-f2feef1be50e\n",
      "https://www.beta.team/job/?jobId=5562cb79-9af3-4dd7-8153-e2aecb4f829f\n",
      "https://www.beta.team/job/?jobId=e9ad3f3a-0527-4a6b-a0ae-f0b0e4d71cf1\n",
      "https://www.beta.team/job/?jobId=29cea0c3-6f82-4683-8d96-4c67030011aa\n",
      "https://www.beta.team/job/?jobId=212bff6b-e43a-49a4-b23b-389f714b2490\n",
      "https://www.beta.team/job/?jobId=27dfc074-2a9c-4979-94f9-6af4211bf051\n",
      "https://www.beta.team/job/?jobId=1577a6e6-78d0-4b89-b5ad-0c583e67c8ed\n",
      "https://www.beta.team/job/?jobId=50caf1b3-ae3a-4c01-a0b1-f006c4cfe2f3\n",
      "https://www.beta.team/job/?jobId=e85f700b-62f1-40a2-8d71-12befcb504cc\n",
      "https://www.beta.team/job/?jobId=59f1fb55-e703-4f1d-a87a-113cbbfb162c\n",
      "https://www.beta.team/job/?jobId=8a3fc34f-c7b6-46c0-9b2b-bf7a5dacd463\n",
      "https://www.beta.team/job/?jobId=d46bb648-6a47-479d-a5dd-c5a5b7ff5a8c\n"
     ]
    }
   ],
   "source": []
  },
  {
   "cell_type": "code",
   "execution_count": null,
   "id": "36111d67",
   "metadata": {},
   "outputs": [],
   "source": []
  }
 ],
 "metadata": {
  "kernelspec": {
   "display_name": "Python 3",
   "language": "python",
   "name": "python3"
  },
  "language_info": {
   "codemirror_mode": {
    "name": "ipython",
    "version": 3
   },
   "file_extension": ".py",
   "mimetype": "text/x-python",
   "name": "python",
   "nbconvert_exporter": "python",
   "pygments_lexer": "ipython3",
   "version": "3.8.10"
  }
 },
 "nbformat": 4,
 "nbformat_minor": 5
}
