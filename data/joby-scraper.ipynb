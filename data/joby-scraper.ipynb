{
 "cells": [
  {
   "cell_type": "code",
   "execution_count": 1,
   "metadata": {},
   "outputs": [],
   "source": [
    "from selenium import webdriver\n",
    "from selenium.webdriver.common.by import By\n",
    "from selenium.webdriver.support.ui import WebDriverWait\n",
    "from selenium.webdriver.support import expected_conditions as EC\n",
    "# from selenium.common.exceptions import NoSuchElementException, \\\n",
    "#     WebDriverException\n",
    "# from selenium.webdriver.common.keys import Keys\n",
    "import requests\n",
    "from random import randint\n",
    "from time import sleep\n",
    "from bs4 import BeautifulSoup, SoupStrainer\n",
    "import pandas as pd\n",
    "from newspaper import Article\n",
    "from newspaper import ArticleException\n",
    "from newspaper import Config\n",
    "from tqdm import tqdm\n",
    "\n",
    "config = Config()\n",
    "config.request_timeout = 20"
   ]
  },
  {
   "cell_type": "code",
   "execution_count": 4,
   "metadata": {},
   "outputs": [],
   "source": [
    "joby_newsroom = \"https://www.jobyaviation.com/news/\""
   ]
  },
  {
   "cell_type": "code",
   "execution_count": 7,
   "metadata": {},
   "outputs": [
    {
     "name": "stdout",
     "output_type": "stream",
     "text": [
      "Message: \n",
      "Stacktrace:\n",
      "Backtrace:\n",
      "\tOrdinal0 [0x00E569A3+2582947]\n",
      "\tOrdinal0 [0x00DEA6D1+2139857]\n",
      "\tOrdinal0 [0x00CE3A98+1063576]\n",
      "\tOrdinal0 [0x00D0FF3E+1244990]\n",
      "\tOrdinal0 [0x00D1013B+1245499]\n",
      "\tOrdinal0 [0x00D39F52+1417042]\n",
      "\tOrdinal0 [0x00D28594+1344916]\n",
      "\tOrdinal0 [0x00D3834A+1409866]\n",
      "\tOrdinal0 [0x00D28366+1344358]\n",
      "\tOrdinal0 [0x00D05176+1200502]\n",
      "\tOrdinal0 [0x00D06066+1204326]\n",
      "\tGetHandleVerifier [0x00FFBE02+1675858]\n",
      "\tGetHandleVerifier [0x010B036C+2414524]\n",
      "\tGetHandleVerifier [0x00EEBB01+560977]\n",
      "\tGetHandleVerifier [0x00EEA8D3+556323]\n",
      "\tOrdinal0 [0x00DF020E+2163214]\n",
      "\tOrdinal0 [0x00DF5078+2183288]\n",
      "\tOrdinal0 [0x00DF51C0+2183616]\n",
      "\tOrdinal0 [0x00DFEE1C+2223644]\n",
      "\tBaseThreadInitThunk [0x7569FA29+25]\n",
      "\tRtlGetAppContainerNamedObjectPath [0x77257A7E+286]\n",
      "\tRtlGetAppContainerNamedObjectPath [0x77257A4E+238]\n",
      "\n",
      "Clicked on the button 8 times\n"
     ]
    }
   ],
   "source": [
    "more_news = True\n",
    "\n",
    "driver = webdriver.Chrome()\n",
    "driver.get(joby_newsroom)\n",
    "sleep(2)\n",
    "\n",
    "i = 0\n",
    "while more_news:\n",
    "    try:\n",
    "        load_more_bttn =  WebDriverWait(driver, 10).until(\n",
    "            EC.presence_of_element_located((By.XPATH, \"//button[@type='submit' and span='Load More']\"))\n",
    "        )\n",
    "        sleep(7)\n",
    "        load_more_bttn.click()\n",
    "        i += 1\n",
    "        sleep(7)\n",
    "    except Exception as e:\n",
    "        more_news = False\n",
    "        print(e)\n",
    "\n",
    "print(f\"Clicked on the button {i} times\")    "
   ]
  },
  {
   "cell_type": "code",
   "execution_count": 2,
   "metadata": {},
   "outputs": [
    {
     "name": "stdout",
     "output_type": "stream",
     "text": [
      "Santa Cruz, CA, Mar 15, 2022 — Joby Aviation Inc. (NYSE:JOBY), a California-based company developing all-electric aircraft for commercial passenger service, today announced the Company has begun the fourth of five stages to receive its Part 135 Air Carrier Certificate from the Federal Aviation Administration (FAA).\n",
      "\n",
      "A Part 135 Air Carrier Certificate is required for Joby to operate its revolutionary electric vertical take-off and landing (eVTOL) aircraft as an air taxi service in cities and communities around the United States. Alongside a Type Certificate and Production Certificate, this is one of three regulatory approvals critical to the planned launch of Joby’s all-electric aerial ridesharing service in 2024.\n",
      "\n",
      "After filing an initial application for a Part 135 Air Carrier Certificate in June 2021, Joby completed the second stage in August, which includes submission of a complete package of manuals. The third and fourth stages involve FAA review and approval of manuals and FAA observation of the Company performing operations to ensure full regulatory compliance.\n",
      "\n",
      "Last week, Joby entered the fourth stage of the process, with FAA representatives beginning to observe Joby’s initial cadre of pilot instructors as they demonstrate mastery of training and operational procedures using the Company’s prepared manuals and training program.\n",
      "\n",
      "The fifth phase is FAA final approval and issuance of the Part 135 certificate. Joby expects to complete the Part 135 certification process later this year.\n",
      "\n",
      "“Our aspiration is to not just build and certify a revolutionary aircraft, but to operate a commercial passenger service that saves people time with minimal impact on the environment,” said Bonny Simi, Head of Air Operations and People at Joby. “Achieving a Part 135 certification unlocks the ability to do that, and we’re moving through the process ahead of schedule.”\n",
      "\n",
      "Joby recently announced a partnership with CAE, a global leader in aviation training, to develop and qualify flight simulation training devices that Joby will use to train commercially-rated pilots to fly the Company’s eVTOL aircraft.\n",
      "\n",
      "Joby’s quiet, all-electric aircraft is designed to transport a pilot and four passengers with zero operation emissions at speeds of up to 200 mph. With a revolutionary low noise footprint and a demonstrated maximum range of 150 miles on a single charge, Joby aims to launch commercial service in 2024.\n",
      "\n",
      "ABOUT JOBY AVIATION\n",
      "\n",
      "Joby Aviation, Inc. (NYSE:JOBY) is a California-based transportation company developing an all-electric vertical take-off and landing aircraft which it intends to operate as part of a fast, quiet, and convenient air taxi service beginning in 2024. The aircraft, which has a maximum range of 150 miles on a single charge, can transport a pilot and four passengers at speeds of up to 200 mph. It is designed to help reduce urban congestion and accelerate the shift to sustainable modes of transit. Founded in 2009, Joby employs around 1,000 people, with offices in Santa Cruz, San Carlos, and Marina, California, as well as Washington, D.C. and Munich, Germany. To learn more, visit www.jobyaviation.com.\n",
      "\n",
      "Forward Looking Statements\n",
      "\n",
      "This press release contains “forward-looking statements” within the meaning of the “safe harbor” provisions of the Private Securities Litigation Reform Act of 1995, including but not limited to, statements regarding the development and performance of our aircraft including pilot training and qualification; our business plan, objectives, goals and market opportunity; and our current expectations relating to our business, financial condition, results of operations, prospects and capital needs. You can identify forward-looking statements by the fact that they do not relate strictly to historical or current facts. These statements may include words such as “anticipate”, “estimate”, \"expect”, “project”, “plan”, “intend”, “believe”, “may”, “will”, “should”, “can have”, “likely” and other words and terms of similar meaning in connection with any discussion of the timing or nature of future operating or financial performance or other events. All forward looking statements are subject to risks and uncertainties that may cause actual results to differ materially, including: our limited operating history and history of losses; our ability to launch our aerial ridesharing service and the growth of the urban air mobility market generally; our plans to operate a commercial passenger service beginning in 2024; the competitive environment in which we operate; our future capital needs; our ability to adequately protect and enforce our intellectual property rights; our ability to effectively respond to evolving regulations and standards relating to our aircraft; our reliance on a third-party suppliers and service partners; uncertainties related to our estimates of the size of the market for its aircraft and future revenue opportunities; and other important factors discussed in the section titled “Risk Factors” in our Registration Statement on Form S-1 (File No. 333-260608), filed with the Securities and Exchange Commission on October 29, 2021, and in other reports we file with or furnish to the Securities and Exchange Commission. Any such forward-looking statements represent management’s estimates and beliefs as of the date of this press release. While Joby may elect to update such forward-looking statements at some point in the future, it disclaims any obligation to do so, even if subsequent events cause its views to change.\n",
      "\n",
      "Contacts:\n",
      "\n",
      "Joby Aviation\n",
      "\n",
      "Investors: investors@jobyaviation.com\n",
      "\n",
      "+1-831-201-6006\n",
      "\n",
      "Media:\n",
      "\n",
      "press@jobyaviation.com\n"
     ]
    }
   ],
   "source": [
    "url = \"https://www.jobyaviation.com/news/joby-nears-completion-part-135-air-carrier-certification/\"\n",
    "article = Article(url)\n",
    "article.download()\n",
    "article.parse()\n",
    "print(article.text)"
   ]
  },
  {
   "cell_type": "code",
   "execution_count": 3,
   "metadata": {},
   "outputs": [
    {
     "name": "stdout",
     "output_type": "stream",
     "text": [
      "Santa Cruz, CA, Mar 15, 2022 — Joby Aviation Inc. (NYSE:JOBY), a California-based company developing all-electric aircraft for commercial passenger service, today announced the Company has begun the fourth of five stages to receive its Part 135 Air Carrier Certificate from the Federal Aviation Administration (FAA).\n",
      "\n",
      "A Part 135 Air Carrier Certificate is required for Joby to operate its revolutionary electric vertical take-off and landing (eVTOL) aircraft as an air taxi service in cities and communities around the United States. Alongside a Type Certificate and Production Certificate, this is one of three regulatory approvals critical to the planned launch of Joby’s all-electric aerial ridesharing service in 2024.\n",
      "\n",
      "After filing an initial application for a Part 135 Air Carrier Certificate in June 2021, Joby completed the second stage in August, which includes submission of a complete package of manuals. The third and fourth stages involve FAA review and approval of manuals and FAA observation of the Company performing operations to ensure full regulatory compliance.\n",
      "\n",
      "Last week, Joby entered the fourth stage of the process, with FAA representatives beginning to observe Joby’s initial cadre of pilot instructors as they demonstrate mastery of training and operational procedures using the Company’s prepared manuals and training program.\n",
      "\n",
      "The fifth phase is FAA final approval and issuance of the Part 135 certificate. Joby expects to complete the Part 135 certification process later this year.\n",
      "\n",
      "“Our aspiration is to not just build and certify a revolutionary aircraft, but to operate a commercial passenger service that saves people time with minimal impact on the environment,” said Bonny Simi, Head of Air Operations and People at Joby. “Achieving a Part 135 certification unlocks the ability to do that, and we’re moving through the process ahead of schedule.”\n",
      "\n",
      "Joby recently announced a partnership with CAE, a global leader in aviation training, to develop and qualify flight simulation training devices that Joby will use to train commercially-rated pilots to fly the Company’s eVTOL aircraft.\n",
      "\n",
      "Joby’s quiet, all-electric aircraft is designed to transport a pilot and four passengers with zero operation emissions at speeds of up to 200 mph. With a revolutionary low noise footprint and a demonstrated maximum range of 150 miles on a single charge, Joby aims to launch commercial service in 2024.\n",
      "\n",
      "\n"
     ]
    }
   ],
   "source": [
    "txt = article.text\n",
    "txt = txt.rsplit(\"ABOUT JOBY AVIATION\")[0]\n",
    "print(txt)"
   ]
  }
 ],
 "metadata": {
  "interpreter": {
   "hash": "a20c287be2bd3618b382f046fb3f6b98ec059cc5b3eabbcce62fc8fe3c90f75b"
  },
  "kernelspec": {
   "display_name": "Python 3.9.11 ('win_venv': venv)",
   "language": "python",
   "name": "python3"
  },
  "language_info": {
   "codemirror_mode": {
    "name": "ipython",
    "version": 3
   },
   "file_extension": ".py",
   "mimetype": "text/x-python",
   "name": "python",
   "nbconvert_exporter": "python",
   "pygments_lexer": "ipython3",
   "version": "3.9.11"
  },
  "orig_nbformat": 4
 },
 "nbformat": 4,
 "nbformat_minor": 2
}
