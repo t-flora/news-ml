{
 "cells": [
  {
   "cell_type": "markdown",
   "source": "# Newspaper3k",
   "metadata": {
    "tags": [],
    "cell_id": "00001-bbe666b2-8d4a-4f98-b1d0-bcb7ddfb449e",
    "deepnote_cell_type": "markdown"
   }
  },
  {
   "cell_type": "code",
   "metadata": {
    "tags": [],
    "cell_id": "00001-b8664496-3fc1-4edf-930e-a52b9fe139ca",
    "deepnote_to_be_reexecuted": false,
    "source_hash": "15ccb22",
    "execution_start": 1639163730088,
    "execution_millis": 0,
    "deepnote_cell_type": "code"
   },
   "source": "dt_extension = '10-Dec-2021-17:27'",
   "execution_count": null,
   "outputs": []
  },
  {
   "cell_type": "code",
   "metadata": {
    "tags": [],
    "cell_id": "00000-993f74fc-d4f9-444f-8c73-62912fa33ca0",
    "deepnote_to_be_reexecuted": false,
    "source_hash": "caea4ee3",
    "execution_start": 1645407418576,
    "execution_millis": 19441,
    "deepnote_cell_type": "code"
   },
   "source": "# !pip install newspaper3k",
   "execution_count": null,
   "outputs": [
    {
     "name": "stdout",
     "text": "Collecting newspaper3k\n  Downloading newspaper3k-0.2.8-py3-none-any.whl (211 kB)\n\u001b[K     |████████████████████████████████| 211 kB 20.0 MB/s \n\u001b[?25hRequirement already satisfied: Pillow>=3.3.0 in /shared-libs/python3.7/py/lib/python3.7/site-packages (from newspaper3k) (9.0.1)\nCollecting tldextract>=2.0.1\n  Downloading tldextract-3.2.0-py3-none-any.whl (87 kB)\n\u001b[K     |████████████████████████████████| 87 kB 11.6 MB/s \n\u001b[?25hRequirement already satisfied: requests>=2.10.0 in /shared-libs/python3.7/py/lib/python3.7/site-packages (from newspaper3k) (2.27.1)\nCollecting feedfinder2>=0.0.4\n  Downloading feedfinder2-0.0.4.tar.gz (3.3 kB)\nCollecting jieba3k>=0.35.1\n  Downloading jieba3k-0.35.1.zip (7.4 MB)\n\u001b[K     |████████████████████████████████| 7.4 MB 40.4 MB/s \n\u001b[?25hRequirement already satisfied: nltk>=3.2.1 in /shared-libs/python3.7/py/lib/python3.7/site-packages (from newspaper3k) (3.7)\nRequirement already satisfied: lxml>=3.6.0 in /shared-libs/python3.7/py/lib/python3.7/site-packages (from newspaper3k) (4.7.1)\nRequirement already satisfied: cssselect>=0.9.2 in /shared-libs/python3.7/py/lib/python3.7/site-packages (from newspaper3k) (1.1.0)\nCollecting feedparser>=5.2.1\n  Downloading feedparser-6.0.8-py3-none-any.whl (81 kB)\n\u001b[K     |████████████████████████████████| 81 kB 14.8 MB/s \n\u001b[?25hCollecting beautifulsoup4>=4.4.1\n  Downloading beautifulsoup4-4.10.0-py3-none-any.whl (97 kB)\n\u001b[K     |████████████████████████████████| 97 kB 11.8 MB/s \n\u001b[?25hRequirement already satisfied: python-dateutil>=2.5.3 in /shared-libs/python3.7/py-core/lib/python3.7/site-packages (from newspaper3k) (2.8.2)\nCollecting tinysegmenter==0.3\n  Downloading tinysegmenter-0.3.tar.gz (16 kB)\nRequirement already satisfied: PyYAML>=3.11 in /shared-libs/python3.7/py/lib/python3.7/site-packages (from newspaper3k) (6.0)\nRequirement already satisfied: idna in /shared-libs/python3.7/py-core/lib/python3.7/site-packages (from tldextract>=2.0.1->newspaper3k) (3.3)\nCollecting requests-file>=1.4\n  Downloading requests_file-1.5.1-py2.py3-none-any.whl (3.7 kB)\nCollecting filelock>=3.0.8\n  Downloading filelock-3.6.0-py3-none-any.whl (10.0 kB)\nRequirement already satisfied: certifi>=2017.4.17 in /shared-libs/python3.7/py/lib/python3.7/site-packages (from requests>=2.10.0->newspaper3k) (2021.10.8)\nRequirement already satisfied: charset-normalizer~=2.0.0; python_version >= \"3\" in /shared-libs/python3.7/py-core/lib/python3.7/site-packages (from requests>=2.10.0->newspaper3k) (2.0.12)\nRequirement already satisfied: urllib3<1.27,>=1.21.1 in /shared-libs/python3.7/py/lib/python3.7/site-packages (from requests>=2.10.0->newspaper3k) (1.26.8)\nRequirement already satisfied: six in /shared-libs/python3.7/py-core/lib/python3.7/site-packages (from feedfinder2>=0.0.4->newspaper3k) (1.16.0)\nRequirement already satisfied: regex>=2021.8.3 in /shared-libs/python3.7/py/lib/python3.7/site-packages (from nltk>=3.2.1->newspaper3k) (2022.1.18)\nRequirement already satisfied: click in /shared-libs/python3.7/py/lib/python3.7/site-packages (from nltk>=3.2.1->newspaper3k) (8.0.3)\nRequirement already satisfied: joblib in /shared-libs/python3.7/py/lib/python3.7/site-packages (from nltk>=3.2.1->newspaper3k) (1.1.0)\nRequirement already satisfied: tqdm in /shared-libs/python3.7/py/lib/python3.7/site-packages (from nltk>=3.2.1->newspaper3k) (4.62.3)\nCollecting sgmllib3k\n  Downloading sgmllib3k-1.0.0.tar.gz (5.8 kB)\nCollecting soupsieve>1.2\n  Downloading soupsieve-2.3.1-py3-none-any.whl (37 kB)\nRequirement already satisfied: importlib-metadata; python_version < \"3.8\" in /shared-libs/python3.7/py-core/lib/python3.7/site-packages (from click->nltk>=3.2.1->newspaper3k) (4.11.0)\nRequirement already satisfied: zipp>=0.5 in /shared-libs/python3.7/py-core/lib/python3.7/site-packages (from importlib-metadata; python_version < \"3.8\"->click->nltk>=3.2.1->newspaper3k) (3.7.0)\nRequirement already satisfied: typing-extensions>=3.6.4; python_version < \"3.8\" in /shared-libs/python3.7/py-core/lib/python3.7/site-packages (from importlib-metadata; python_version < \"3.8\"->click->nltk>=3.2.1->newspaper3k) (4.1.1)\nBuilding wheels for collected packages: feedfinder2, jieba3k, tinysegmenter, sgmllib3k\n  Building wheel for feedfinder2 (setup.py) ... \u001b[?25ldone\n\u001b[?25h  Created wheel for feedfinder2: filename=feedfinder2-0.0.4-py3-none-any.whl size=3356 sha256=c5fcf885271486f0b50fb7e366091386999269438e55695262455cb77914ac42\n  Stored in directory: /root/.cache/pip/wheels/7f/d4/8f/6e2ca54744c9d7292d88ddb8d42876bcdab5e6d84a21c10346\n  Building wheel for jieba3k (setup.py) ... \u001b[?25ldone\n\u001b[?25h  Created wheel for jieba3k: filename=jieba3k-0.35.1-py3-none-any.whl size=7398406 sha256=c579f5132cd83836c4590fd19082e72cad34e944b9125924f89410eb08e6254b\n  Stored in directory: /root/.cache/pip/wheels/4c/91/46/3c208287b726df325a5979574324878b679116e4baae1af3c3\n  Building wheel for tinysegmenter (setup.py) ... \u001b[?25ldone\n\u001b[?25h  Created wheel for tinysegmenter: filename=tinysegmenter-0.3-py3-none-any.whl size=13537 sha256=1ce853fd777edcf7063869c9242d6e3ff02948dfd28697285ef17d680936b5fe\n  Stored in directory: /root/.cache/pip/wheels/df/67/41/faca10fa501ca010be41b49d40360c2959e1c4f09bcbfa37fa\n  Building wheel for sgmllib3k (setup.py) ... \u001b[?25ldone\n\u001b[?25h  Created wheel for sgmllib3k: filename=sgmllib3k-1.0.0-py3-none-any.whl size=6065 sha256=e9a337d64163aed8df56b5b2d238ff4aa28a8c177bb26ed654f095e864d441c5\n  Stored in directory: /root/.cache/pip/wheels/73/ad/a4/0dff4a6ef231fc0dfa12ffbac2a36cebfdddfe059f50e019aa\nSuccessfully built feedfinder2 jieba3k tinysegmenter sgmllib3k\nInstalling collected packages: requests-file, filelock, tldextract, soupsieve, beautifulsoup4, feedfinder2, jieba3k, sgmllib3k, feedparser, tinysegmenter, newspaper3k\nSuccessfully installed beautifulsoup4-4.10.0 feedfinder2-0.0.4 feedparser-6.0.8 filelock-3.6.0 jieba3k-0.35.1 newspaper3k-0.2.8 requests-file-1.5.1 sgmllib3k-1.0.0 soupsieve-2.3.1 tinysegmenter-0.3 tldextract-3.2.0\n\u001b[33mWARNING: You are using pip version 20.1.1; however, version 22.0.3 is available.\nYou should consider upgrading via the '/root/venv/bin/python -m pip install --upgrade pip' command.\u001b[0m\n",
     "output_type": "stream"
    }
   ]
  },
  {
   "cell_type": "code",
   "metadata": {
    "tags": [],
    "cell_id": "00001-15032d30-501e-45a0-8c18-86ba3bdf95b5",
    "deepnote_to_be_reexecuted": false,
    "source_hash": "8a8623b8",
    "execution_start": 1645407438027,
    "execution_millis": 295,
    "deepnote_cell_type": "code"
   },
   "source": "import pandas as pd\nfrom newspaper import Article",
   "execution_count": null,
   "outputs": []
  },
  {
   "cell_type": "code",
   "metadata": {
    "cell_id": "918bc335-1430-408c-bcd2-3f636fcd91c1",
    "tags": [],
    "deepnote_to_be_reexecuted": false,
    "source_hash": "a4d782d1",
    "execution_start": 1645407438334,
    "execution_millis": 1405,
    "deepnote_cell_type": "code"
   },
   "source": "!pip freeze",
   "execution_count": null,
   "outputs": [
    {
     "name": "stdout",
     "text": "absl-py==0.15.0\r\nagate==1.6.3\r\naiohttp==3.8.1\r\naiosignal==1.2.0\r\nalabaster==0.7.12\r\naltair==4.1.0\r\nargon2-cffi==21.3.0\r\nargon2-cffi-bindings==21.2.0\r\narrow==1.2.2\r\nasn1crypto==1.4.0\r\nastunparse==1.6.3\r\nasync-timeout==4.0.2\r\nasynctest==0.13.0\r\nattrs==21.4.0\r\nAutomat==20.2.0\r\nBabel==2.9.1\r\nbackcall==0.2.0\r\nbeautifulsoup4==4.10.0\r\nbleach==4.1.0\r\nblis==0.7.5\r\nbokeh==2.3.3\r\nboto3==1.20.54\r\nbotocore==1.23.54\r\nbranca==0.4.2\r\ncachetools==4.2.4\r\ncatalogue==1.0.0\r\ncertifi==2021.10.8\r\ncffi==1.15.0\r\ncharset-normalizer==2.0.12\r\nclick==8.0.3\r\nclick-plugins==1.1.1\r\ncligj==0.7.2\r\nconstantly==15.1.0\r\ncoverage==6.3.1\r\ncoveralls==3.3.1\r\ncryptography==36.0.1\r\ncssselect==1.1.0\r\ncycler==0.11.0\r\ncymem==2.0.6\r\ndatascience==0.17.0\r\ndecorator==5.1.1\r\ndefusedxml==0.7.1\r\ndill==0.3.4\r\ndocopt==0.6.2\r\ndocutils==0.17.1\r\nduckdb==0.3.0\r\nduckdb-engine==0.1.8\r\nen-core-web-sm @ https://github.com/explosion/spacy-models/releases/download/en_core_web_sm-2.2.0/en_core_web_sm-2.2.0.tar.gz\r\nentrypoints==0.4\r\nfeedfinder2==0.0.4\r\nfeedparser==6.0.8\r\nfilelock==3.6.0\r\nFiona==1.8.21\r\nflatbuffers==1.12\r\nfolium==0.12.1.post1\r\nfonttools==4.29.1\r\nfrozenlist==1.3.0\r\nfuture==0.18.2\r\ngast==0.3.3\r\ngoogle-api-core==1.31.5\r\ngoogle-auth==1.35.0\r\ngoogle-auth-oauthlib==0.4.6\r\ngoogle-cloud-bigquery==2.20.0\r\ngoogle-cloud-bigquery-storage==2.11.0\r\ngoogle-cloud-core==1.7.2\r\ngoogle-crc32c==1.3.0\r\ngoogle-pasta==0.2.0\r\ngoogle-resumable-media==1.3.3\r\ngoogleapis-common-protos==1.54.0\r\ngreenlet==1.1.2\r\ngrpcio==1.32.0\r\nh2==3.2.0\r\nh5py==2.10.0\r\nhpack==3.0.0\r\nhyperframe==5.2.0\r\nhyperlink==21.0.0\r\nidna==3.3\r\nimagesize==1.3.0\r\nimportlib-metadata==4.11.0\r\nimportlib-resources==5.4.0\r\nincremental==21.3.0\r\niniconfig==1.1.1\r\nipykernel==5.5.5\r\nipython==7.31.1\r\nipython-genutils==0.2.0\r\nisodate==0.6.1\r\nitemadapter==0.4.0\r\nitemloaders==1.0.4\r\njedi==0.17.2\r\njieba3k==0.35.1\r\nJinja2==3.0.3\r\njinjasql==0.1.8\r\njmespath==0.10.0\r\njoblib==1.1.0\r\njsonify==0.5\r\njsonschema==3.2.0\r\njupyter-client==6.1.12\r\njupyter-core==4.7.1\r\njupyterlab-pygments==0.1.2\r\nkeras==2.8.0\r\nKeras-Preprocessing==1.1.2\r\nkiwisolver==1.3.2\r\nlangcodes==3.3.0\r\nleather==0.3.4\r\nlibcst==0.4.1\r\nlxml==4.7.1\r\nMarkdown==3.3.6\r\nMarkupSafe==2.0.1\r\nmatplotlib==3.5.1\r\nmatplotlib-inline==0.1.3\r\nmistune==0.8.4\r\nmpmath==1.2.1\r\nmultidict==6.0.2\r\nmunch==2.5.0\r\nmurmurhash==1.0.6\r\nmypy-extensions==0.4.3\r\nnbclient==0.5.10\r\nnbconvert==6.0.7\r\nnbformat==5.1.3\r\nnbsphinx==0.8.8\r\nnest-asyncio==1.5.4\r\nnewspaper3k==0.2.8\r\nnltk==3.7\r\nnotebook @ git+https://github.com/deepnote/jupyter-notebook.git@58df53c148d0da5e5e7b916b997c222ec86c155d\r\nnumpy==1.19.5\r\noauthlib==3.2.0\r\nopt-einsum==3.3.0\r\noscrypto==1.2.1\r\npackaging==21.3\r\npandas==1.2.5\r\npandocfilters==1.5.0\r\nparsedatetime==2.4\r\nparsel==1.6.0\r\nparso==0.7.1\r\npathy==0.6.1\r\npexpect==4.8.0\r\npickleshare==0.7.5\r\nPillow==9.0.1\r\nplac==1.1.3\r\nplotly==5.6.0\r\npluggy==1.0.0\r\npreshed==3.0.6\r\npriority==1.3.0\r\nprometheus-client==0.13.1\r\nprompt-toolkit==3.0.28\r\nProtego==0.2.0\r\nproto-plus==1.20.0\r\nprotobuf==3.19.4\r\npsycopg2-binary==2.9.3\r\nptyprocess==0.7.0\r\npy==1.11.0\r\npyarrow==7.0.0\r\npyasn1==0.4.8\r\npyasn1-modules==0.2.8\r\npyathena==2.4.1\r\npybigquery==0.10.2\r\npycparser==2.21\r\npycryptodomex==3.14.1\r\npydantic==1.8.2\r\nPyDispatcher==2.0.5\r\nPygments==2.11.2\r\nPyJWT==2.3.0\r\nPyMySQL==1.0.2\r\npyOpenSSL==21.0.0\r\npyparsing==3.0.7\r\npyrsistent==0.18.1\r\npytest==7.0.1\r\npython-dateutil==2.8.2\r\npython-jsonrpc-server==0.4.0\r\npython-language-server @ git+https://github.com/deepnote/python-language-server.git@626667573c1a7836c1e144790b5390feb7f3c111\r\npython-slugify==5.0.2\r\npytimeparse==1.1.8\r\npytz==2021.3\r\nPyYAML==6.0\r\npyzmq==22.3.0\r\nqueuelib==1.6.2\r\nregex==2022.1.18\r\nrequests==2.27.1\r\nrequests-file==1.5.1\r\nrequests-oauthlib==1.3.1\r\nrsa==4.8\r\ns3transfer==0.5.1\r\nscikit-learn==1.0.2\r\nscipy==1.7.3\r\nScrapy==2.5.1\r\nseaborn==0.11.2\r\nSend2Trash==1.8.0\r\nservice-identity==21.1.0\r\nsgmllib3k==1.0.0\r\nsix==1.16.0\r\nsmart-open==5.2.1\r\nsnowballstemmer==2.2.0\r\nsnowflake-connector-python==2.7.4\r\nsnowflake-sqlalchemy==1.3.3\r\nsoupsieve==2.3.1\r\nspacy==2.3.7\r\nspacy-legacy==3.0.8\r\nspacy-loggers==1.0.1\r\nSphinx==4.4.0\r\nsphinxcontrib-applehelp==1.0.2\r\nsphinxcontrib-devhelp==1.0.2\r\nsphinxcontrib-htmlhelp==2.0.0\r\nsphinxcontrib-jsmath==1.0.1\r\nsphinxcontrib-qthelp==1.0.3\r\nsphinxcontrib-serializinghtml==1.1.5\r\nsql-metadata==2.1.0\r\nSQLAlchemy==1.4.31\r\nsqlalchemy-redshift==0.8.9\r\nsqlparse==0.4.2\r\nsquarify==0.4.3\r\nsrsly==1.0.5\r\nsympy==1.9\r\ntabulate==0.8.9\r\ntenacity==8.0.1\r\ntensorboard==2.8.0\r\ntensorboard-data-server==0.6.1\r\ntensorboard-plugin-wit==1.8.1\r\ntensorflow==2.4.1\r\ntensorflow-estimator==2.4.0\r\ntermcolor==1.1.0\r\nterminado==0.13.1\r\ntestpath==0.5.0\r\ntext-unidecode==1.3\r\ntextblob==0.17.1\r\nthinc==7.4.5\r\nthreadpoolctl==3.1.0\r\ntinysegmenter==0.3\r\ntldextract==3.2.0\r\ntomli==2.0.1\r\ntoolz==0.11.2\r\ntorch==1.10.2\r\ntorchvision==0.11.3\r\ntornado==6.1\r\ntqdm==4.62.3\r\ntraitlets==4.3.3\r\nTwisted==22.1.0\r\ntyper==0.4.0\r\ntyping-extensions==4.1.1\r\ntyping-inspect==0.7.1\r\nujson==5.1.0\r\nurllib3==1.26.8\r\nw3lib==1.22.0\r\nwasabi==0.9.0\r\nwcwidth==0.2.5\r\nwebencodings==0.5.1\r\nWerkzeug==2.0.3\r\nwrapt==1.12.1\r\nyarl==1.7.2\r\nzipp==3.7.0\r\nzope.interface==5.4.0\r\n",
     "output_type": "stream"
    }
   ]
  },
  {
   "cell_type": "code",
   "metadata": {
    "tags": [],
    "cell_id": "00004-f8368a24-8933-4b92-ad98-e804767d8e83",
    "deepnote_to_be_reexecuted": false,
    "source_hash": "27c1fba0",
    "execution_start": 1639163988430,
    "execution_millis": 93,
    "deepnote_output_heights": [
     606.1875
    ],
    "deepnote_cell_type": "code"
   },
   "source": "df = pd.read_csv(f\"extracted_news_articles_{dt_extension}.csv\", encoding = 'utf-8')",
   "execution_count": null,
   "outputs": []
  },
  {
   "cell_type": "code",
   "metadata": {
    "tags": [],
    "cell_id": "00005-cd0ed23a-133f-4fa8-9c2f-f121da73283c",
    "deepnote_to_be_reexecuted": false,
    "source_hash": "f4e21763",
    "execution_start": 1639164161803,
    "execution_millis": 3,
    "deepnote_output_heights": [
     21.1875
    ],
    "deepnote_cell_type": "code"
   },
   "source": "df['link'][0]",
   "execution_count": null,
   "outputs": [
    {
     "output_type": "execute_result",
     "execution_count": 19,
     "data": {
      "text/plain": "'https://noticias.uol.com.br/ultimas-noticias/onu-news/2021/12/07/dia-internacional-da-aviacao-civil-enfatiza-inovacoes-para-maior-conectividade.htm'"
     },
     "metadata": {}
    }
   ]
  },
  {
   "cell_type": "code",
   "metadata": {
    "tags": [],
    "cell_id": "00003-dac20750-f127-47f1-b781-f91728ba58a7",
    "deepnote_to_be_reexecuted": false,
    "source_hash": "79cf6fd8",
    "execution_start": 1639164243807,
    "execution_millis": 4,
    "deepnote_cell_type": "code"
   },
   "source": "def add_text(df, drop_na = False):\n    df['text'] = None\n    for i, url in enumerate(df['link']):\n        try:\n            article = Article(url)\n            article.download()\n            article.parse()\n            df.at[i, 'text'] = article.text\n        except:\n            pass\n    if drop_na:\n        df.dropna(inplace = True)\n    return df",
   "execution_count": null,
   "outputs": []
  },
  {
   "cell_type": "code",
   "metadata": {
    "tags": [],
    "cell_id": "00005-91a8353b-267e-40eb-b2c0-b35a9ee5aac8",
    "deepnote_to_be_reexecuted": false,
    "source_hash": "c019f10",
    "execution_start": 1639164248244,
    "execution_millis": 3422239,
    "deepnote_cell_type": "code"
   },
   "source": "df = add_text(df)\nassert(len(df)>5)",
   "execution_count": null,
   "outputs": []
  },
  {
   "cell_type": "code",
   "metadata": {
    "tags": [],
    "cell_id": "00007-dedcde23-6cc4-4ca1-b26a-523c6702c5b2",
    "deepnote_to_be_reexecuted": false,
    "source_hash": "c6dd1930",
    "execution_start": 1639167670483,
    "execution_millis": 678,
    "deepnote_cell_type": "code"
   },
   "source": "df.to_csv(f\"text-added-{dt_extension}.csv\", encoding = 'utf-8')",
   "execution_count": null,
   "outputs": []
  },
  {
   "cell_type": "markdown",
   "source": "<a style='text-decoration:none;line-height:16px;display:flex;color:#5B5B62;padding:10px;justify-content:end;' href='https://deepnote.com?utm_source=created-in-deepnote-cell&projectId=2392c230-4672-47ef-bbd2-e97d3feaff76' target=\"_blank\">\n<img alt='Created in deepnote.com' style='display:inline;max-height:16px;margin:0px;margin-right:7.5px;' src='data:image/svg+xml;base64,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' > </img>\nCreated in <span style='font-weight:600;margin-left:4px;'>Deepnote</span></a>",
   "metadata": {
    "tags": [],
    "created_in_deepnote_cell": true,
    "deepnote_cell_type": "markdown"
   }
  }
 ],
 "nbformat": 4,
 "nbformat_minor": 2,
 "metadata": {
  "orig_nbformat": 2,
  "deepnote": {
   "is_reactive": false
  },
  "deepnote_notebook_id": "a5c26bb9-d11f-45fc-aeb7-2b655b36ac84",
  "deepnote_execution_queue": []
 }
}