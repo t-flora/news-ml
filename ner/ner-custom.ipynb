{
 "cells": [
  {
   "cell_type": "code",
   "execution_count": null,
   "id": "d4832ade",
   "metadata": {},
   "outputs": [],
   "source": [
    "import spacy\n",
    "from spacy.matcher import Matcher\n",
    "from spacy.lang.en import English\n",
    "import pandas as pd\n",
    "import random\n",
    "random.seed(2022)"
   ]
  },
  {
   "cell_type": "code",
   "execution_count": null,
   "id": "f60e7008",
   "metadata": {},
   "outputs": [],
   "source": [
    "model = \"en_core_web_trf\""
   ]
  },
  {
   "cell_type": "code",
   "execution_count": null,
   "id": "a2492a87",
   "metadata": {},
   "outputs": [],
   "source": [
    "if model is not None:\n",
    "    nlp = spacy.load(model)  # load existing spacy model\n",
    "    print(\"Loaded model '%s'\" % model)\n",
    "else:\n",
    "    nlp = spacy.blank('en')  # create blank Language class\n",
    "    print(\"Created blank 'en' model\")\n",
    "if 'ner' not in nlp.pipe_names:\n",
    "    ner = nlp.create_pipe('ner')\n",
    "    nlp.add_pipe(ner)\n",
    "else:\n",
    "    ner = nlp.get_pipe('ner')"
   ]
  },
  {
   "cell_type": "code",
   "execution_count": null,
   "id": "edca2442",
   "metadata": {},
   "outputs": [],
   "source": [
    "df = pd.read_csv(\"../data/csvfiles/scraped_web/beta_announcements.csv\")\n",
    "df.head()"
   ]
  },
  {
   "cell_type": "code",
   "execution_count": null,
   "id": "f22600eb",
   "metadata": {},
   "outputs": [],
   "source": [
    "titles = list(df['title'])\n",
    "\n",
    "random.shuffle(titles)\n",
    "ts = random.sample(titles, 10)\n",
    "for t in ts:\n",
    "    print(t)"
   ]
  },
  {
   "cell_type": "code",
   "execution_count": null,
   "id": "fd0aab79",
   "metadata": {},
   "outputs": [],
   "source": [
    "train_strs = {ts[0] : {\"Beta\" : \"COMP\", \"Amazon's Climate Fund\" : \"PARTNER\", \"Fidelity\" : \"PARTNER\"},\n",
    "              ts[1] : {},\n",
    "             ts[2] : {\"Beta\" : \"COMP\"},\n",
    "             ts[3] : {\"BETA Technologies\":\"COMP\", \"ALIA\":\"TECH\"},\n",
    "             ts[4] : {\"Beta\":\"COMP\", \"Ava\":\"TECH\"},\n",
    "             ts[5] : {},\n",
    "             ts[6] : {\"Beta\":\"COMP\", \"Alia\":\"TECH\"},\n",
    "             ts[7] : {\"Beta Technologies\":\"COMP\"},\n",
    "             ts[8] : {\"Beta\":\"COMP\"},\n",
    "             ts[9] : {\"Beta\":\"COMP\", \"Alia\":\"TECH\"}}"
   ]
  },
  {
   "cell_type": "code",
   "execution_count": null,
   "id": "bd6048b9",
   "metadata": {},
   "outputs": [],
   "source": [
    "def patt_finder(substr, string):\n",
    "    start_idx = string.index(substr)\n",
    "    end_idx = start_idx + len(substr)\n",
    "    return start_idx, end_idx\n",
    "\n",
    "train_data = []\n",
    "for i, sentence in enumerate(train_strs.keys()):\n",
    "    assert(len(train_data)==i)\n",
    "    num_ents = len(train_strs[sentence].keys())\n",
    "    train_data.append([sentence, [None]*num_ents])\n",
    "    for j in range(num_ents):\n",
    "        sent_dict = train_strs[sentence]\n",
    "        start_idx, end_idx = patt_finder(list(sent_dict.keys())[j], sentence)\n",
    "        ent_str = list(sent_dict.values())[j]\n",
    "        train_data[i][1][j] = (start_idx, end_idx, ent_str)"
   ]
  },
  {
   "cell_type": "code",
   "execution_count": null,
   "id": "23bad766",
   "metadata": {},
   "outputs": [],
   "source": [
    "train_data"
   ]
  },
  {
   "cell_type": "code",
   "execution_count": null,
   "id": "ea0a17fe",
   "metadata": {},
   "outputs": [],
   "source": [
    "temp = [[lst[0], {\"entities\" : lst[1]}] for lst in train_data]\n",
    "TRAINING_DATA = [tuple(dp) for dp in temp]\n",
    "TRAINING_DATA"
   ]
  },
  {
   "cell_type": "code",
   "execution_count": null,
   "id": "4e509c27",
   "metadata": {},
   "outputs": [],
   "source": [
    "# # Loop for 10 iterations\n",
    "# for i in range(10):\n",
    "#     # Shuffle the training data\n",
    "#     random.shuffle(TRAINING_DATA)\n",
    "#     # Create batches and iterate over them\n",
    "#     for batch in spacy.util.minibatch(TRAINING_DATA, size=3):\n",
    "#         # Split the batch in texts and annotations\n",
    "#         texts = [text for text, annotation in batch]\n",
    "#         annotations = [annotation for text, annotation in batch]\n",
    "#         # Update the model\n",
    "#         nlp.update(texts, annotations)\n",
    "#         # Save the model\n",
    "#         nlp.to_disk(path_to_model)"
   ]
  },
  {
   "cell_type": "code",
   "execution_count": null,
   "id": "81775832",
   "metadata": {},
   "outputs": [],
   "source": []
  }
 ],
 "metadata": {
  "kernelspec": {
   "display_name": "Python 3",
   "language": "python",
   "name": "python3"
  },
  "language_info": {
   "codemirror_mode": {
    "name": "ipython",
    "version": 3
   },
   "file_extension": ".py",
   "mimetype": "text/x-python",
   "name": "python",
   "nbconvert_exporter": "python",
   "pygments_lexer": "ipython3",
   "version": "3.8.8"
  }
 },
 "nbformat": 4,
 "nbformat_minor": 5
}
