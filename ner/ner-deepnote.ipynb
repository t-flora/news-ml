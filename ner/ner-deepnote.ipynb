{
 "cells": [
  {
   "cell_type": "code",
   "metadata": {
    "tags": [],
    "cell_id": "00000-e833c5c0-58b8-46f0-8583-b570ead337a7",
    "deepnote_to_be_reexecuted": false,
    "source_hash": "905d88e1",
    "execution_start": 1645460878716,
    "execution_millis": 46,
    "deepnote_cell_type": "code"
   },
   "source": "# Added pre-trained models as answered in:\n# https://stackoverflow.com/questions/16584552/how-to-state-in-requirements-txt-a-direct-github-source\n# !pip install -U spacy\n# !python -m spacy download pt_core_news_lg\n# !pip install networkx\n# !pip install fuzzywuzzy",
   "execution_count": null,
   "outputs": []
  },
  {
   "cell_type": "code",
   "metadata": {
    "tags": [],
    "cell_id": "00001-8e078589-b7fa-4d04-afa0-5270a43edf6b",
    "deepnote_to_be_reexecuted": false,
    "source_hash": "a6b42228",
    "execution_start": 1645460878762,
    "execution_millis": 1,
    "deepnote_cell_type": "code"
   },
   "source": "import sys\nsys.path = ['/root/venv/lib/python3.7/site-packages'] + sys.path\n# del sys.modules['decorator']\n# !pip install decorator==5.0.7\n# import decorator\n",
   "execution_count": null,
   "outputs": []
  },
  {
   "cell_type": "code",
   "metadata": {
    "tags": [],
    "cell_id": "00001-290a232f-06f3-4436-8e3c-527b27aae539",
    "deepnote_to_be_reexecuted": false,
    "source_hash": "dbe0cdab",
    "execution_start": 1645460878764,
    "execution_millis": 147,
    "deepnote_cell_type": "code"
   },
   "source": "import pandas as pd\nimport numpy as np\nimport pickle\nfrom tqdm import tqdm\nfrom operator import itemgetter\nfrom fuzzywuzzy import process, fuzz\nimport spacy\nimport random\n\n%matplotlib inline\nfrom matplotlib.pyplot import figure\nimport networkx as nx",
   "execution_count": null,
   "outputs": [
    {
     "output_type": "error",
     "ename": "ModuleNotFoundError",
     "evalue": "No module named 'fuzzywuzzy'",
     "traceback": [
      "\u001b[0;31m---------------------------------------------------------------------------\u001b[0m",
      "\u001b[0;31mModuleNotFoundError\u001b[0m                       Traceback (most recent call last)",
      "\u001b[0;32m<ipython-input-3-056afcb816d4>\u001b[0m in \u001b[0;36m<module>\u001b[0;34m\u001b[0m\n\u001b[1;32m      4\u001b[0m \u001b[0;32mfrom\u001b[0m \u001b[0mtqdm\u001b[0m \u001b[0;32mimport\u001b[0m \u001b[0mtqdm\u001b[0m\u001b[0;34m\u001b[0m\u001b[0;34m\u001b[0m\u001b[0m\n\u001b[1;32m      5\u001b[0m \u001b[0;32mfrom\u001b[0m \u001b[0moperator\u001b[0m \u001b[0;32mimport\u001b[0m \u001b[0mitemgetter\u001b[0m\u001b[0;34m\u001b[0m\u001b[0;34m\u001b[0m\u001b[0m\n\u001b[0;32m----> 6\u001b[0;31m \u001b[0;32mfrom\u001b[0m \u001b[0mfuzzywuzzy\u001b[0m \u001b[0;32mimport\u001b[0m \u001b[0mprocess\u001b[0m\u001b[0;34m,\u001b[0m \u001b[0mfuzz\u001b[0m\u001b[0;34m\u001b[0m\u001b[0;34m\u001b[0m\u001b[0m\n\u001b[0m\u001b[1;32m      7\u001b[0m \u001b[0;32mimport\u001b[0m \u001b[0mspacy\u001b[0m\u001b[0;34m\u001b[0m\u001b[0;34m\u001b[0m\u001b[0m\n\u001b[1;32m      8\u001b[0m \u001b[0;32mimport\u001b[0m \u001b[0mrandom\u001b[0m\u001b[0;34m\u001b[0m\u001b[0;34m\u001b[0m\u001b[0m\n",
      "\u001b[0;31mModuleNotFoundError\u001b[0m: No module named 'fuzzywuzzy'"
     ]
    }
   ]
  },
  {
   "cell_type": "code",
   "metadata": {
    "tags": [],
    "cell_id": "00002-1916162d-9a4a-4e7f-9eeb-7e3b41fe628e",
    "deepnote_to_be_reexecuted": true,
    "source_hash": "df6bf852",
    "execution_start": 1645417292626,
    "execution_millis": 4474,
    "deepnote_cell_type": "code"
   },
   "source": "nlp = spacy.load(\"pt_core_news_lg\")",
   "execution_count": null,
   "outputs": []
  },
  {
   "cell_type": "code",
   "metadata": {
    "tags": [],
    "cell_id": "00003-d14a9dce-3df5-4ba2-b354-71650ac91df4",
    "deepnote_to_be_reexecuted": true,
    "source_hash": "cdb7c97",
    "execution_start": 1645417297104,
    "execution_millis": 295,
    "deepnote_cell_type": "code"
   },
   "source": "df = pd.read_csv(\"/work/text-added-10-Dec-2021-17:27.csv\")",
   "execution_count": null,
   "outputs": []
  },
  {
   "cell_type": "code",
   "metadata": {
    "tags": [],
    "cell_id": "00004-511ed60a-cec6-4eae-a6c0-1974a2a423e5",
    "deepnote_to_be_reexecuted": true,
    "source_hash": "92f62507",
    "execution_start": 1645417297414,
    "execution_millis": 9,
    "deepnote_output_heights": [
     21.1875
    ],
    "deepnote_cell_type": "code"
   },
   "source": "df['text'] = df['text'].astype(str)\n",
   "execution_count": null,
   "outputs": []
  },
  {
   "cell_type": "code",
   "metadata": {
    "tags": [],
    "cell_id": "00008-449ff15d-47a5-4bfe-8f13-a73f5df1d9fe",
    "deepnote_to_be_reexecuted": true,
    "source_hash": "39d2aa5b",
    "execution_start": 1645417297426,
    "execution_millis": 6,
    "deepnote_output_heights": [
     21.1875
    ],
    "deepnote_cell_type": "code"
   },
   "source": "corpus = df['text']",
   "execution_count": null,
   "outputs": []
  },
  {
   "cell_type": "code",
   "metadata": {
    "tags": [],
    "cell_id": "00004-8ec8be11-2398-4f8e-b307-02796ef89928",
    "deepnote_to_be_reexecuted": true,
    "source_hash": "12ac39ac",
    "execution_start": 1645417389041,
    "execution_millis": 12841,
    "deepnote_output_heights": [
     606.1875
    ],
    "deepnote_cell_type": "code"
   },
   "source": "entities = []\nsample_size = 100\ndocs = list(nlp.pipe(random.sample(list(corpus), sample_size), n_process = -1))\n\nfor doc in tqdm(docs):\n    gpe_lst = []\n    for ent in doc.ents:\n        if ent.label_ == 'ORG':\n            gpe_lst.append(ent.text)\n    entities.append(gpe_lst)",
   "execution_count": null,
   "outputs": [
    {
     "name": "stderr",
     "text": "100%|██████████| 100/100 [00:00<00:00, 7779.33it/s]\n",
     "output_type": "stream"
    }
   ]
  },
  {
   "cell_type": "code",
   "metadata": {
    "cell_id": "32a1bb92-ebfc-40b5-a993-c2c09a8e6359",
    "tags": [],
    "deepnote_to_be_reexecuted": true,
    "source_hash": "43f0b22c",
    "execution_start": 1645417406212,
    "execution_millis": 436,
    "deepnote_output_heights": [
     611
    ],
    "deepnote_cell_type": "code"
   },
   "source": "entities",
   "execution_count": null,
   "outputs": [
    {
     "output_type": "execute_result",
     "execution_count": 11,
     "data": {
      "text/plain": "[[],\n [],\n [],\n [],\n [],\n [],\n [],\n [],\n [],\n [],\n [],\n [],\n [],\n [],\n [],\n [],\n [],\n [],\n [],\n [],\n [],\n [],\n [],\n [],\n [],\n [],\n [],\n [],\n [],\n [],\n [],\n [],\n [],\n [],\n [],\n [],\n [],\n [],\n [],\n [],\n [],\n [],\n [],\n [],\n [],\n [],\n [],\n [],\n [],\n [],\n [],\n [],\n [],\n [],\n [],\n [],\n [],\n [],\n [],\n [],\n [],\n [],\n [],\n [],\n [],\n [],\n [],\n [],\n [],\n [],\n [],\n [],\n [],\n [],\n [],\n [],\n [],\n [],\n [],\n [],\n [],\n [],\n [],\n [],\n [],\n [],\n [],\n [],\n [],\n [],\n [],\n [],\n [],\n [],\n [],\n [],\n [],\n [],\n [],\n []]"
     },
     "metadata": {}
    }
   ]
  },
  {
   "cell_type": "code",
   "metadata": {
    "tags": [],
    "cell_id": "00008-c3b64b46-dcf7-4f0b-920f-41c8ef8cbf0c",
    "deepnote_to_be_reexecuted": true,
    "source_hash": "191bd7c3",
    "execution_start": 1644859956035,
    "execution_millis": 6,
    "deepnote_cell_type": "code"
   },
   "source": "articles = []\nfor entity_list in entities:\n    cleaned_entity_list = []\n    for entity in entity_list:\n        cleaned_entity_list.append(entity.lstrip('the ').replace(\"'s\", \"\").replace(\"’s\",\"\"))\n    articles.append(cleaned_entity_list)",
   "execution_count": null,
   "outputs": []
  },
  {
   "cell_type": "code",
   "metadata": {
    "tags": [],
    "cell_id": "00005-c7354f08-c52f-4cee-a77b-5e87dbfef269",
    "deepnote_to_be_reexecuted": true,
    "source_hash": "56717066",
    "execution_start": 1644859956052,
    "execution_millis": 2,
    "deepnote_cell_type": "code"
   },
   "source": "choices = set([item for sublist in articles for item in sublist])\n\ncleaned_articles = []\nfor article in articles:\n    article_entities = []\n    for entity in set(article):\n        article_entities.append(process.extractOne(entity, choices)[0])\n    cleaned_articles.append(article_entities)",
   "execution_count": null,
   "outputs": []
  },
  {
   "cell_type": "code",
   "metadata": {
    "tags": [],
    "cell_id": "00005-c8740173-e183-46b1-be0b-e77daca68f19",
    "deepnote_to_be_reexecuted": true,
    "source_hash": "728cc41f",
    "execution_start": 1644859956062,
    "execution_millis": 1,
    "deepnote_cell_type": "code"
   },
   "source": "articles = [article for article in articles if article != []]",
   "execution_count": null,
   "outputs": []
  },
  {
   "cell_type": "code",
   "metadata": {
    "tags": [],
    "cell_id": "00006-179b7fea-f52e-4a83-9c64-a60152d11ee7",
    "deepnote_to_be_reexecuted": true,
    "source_hash": "c5c86992",
    "execution_start": 1644859956103,
    "execution_millis": 1,
    "deepnote_cell_type": "code"
   },
   "source": "G = nx.Graph()\nfor entities in articles:\n    G.add_nodes_from(entities)",
   "execution_count": null,
   "outputs": []
  },
  {
   "cell_type": "code",
   "metadata": {
    "tags": [],
    "cell_id": "00012-4a726fac-8e30-4733-a04c-be75c01acf93",
    "deepnote_to_be_reexecuted": true,
    "source_hash": "1183899a",
    "execution_start": 1644859956105,
    "execution_millis": 2222807,
    "deepnote_cell_type": "code"
   },
   "source": "for entities in articles:\n    if len(entities) > 1:\n        for i in range(len(entities)-1):\n            G.add_edges_from([(str(entities[i]),str(entities[i+1]))])",
   "execution_count": null,
   "outputs": []
  },
  {
   "cell_type": "code",
   "metadata": {
    "tags": [],
    "cell_id": "00013-da586c18-3475-4bf5-a487-3b06798d5f41",
    "deepnote_to_be_reexecuted": true,
    "source_hash": "7f395fca",
    "execution_start": 1644859956107,
    "execution_millis": 2220323,
    "deepnote_cell_type": "code"
   },
   "source": "degree_dict = dict(G.degree(G.nodes()))\nnx.set_node_attributes(G, degree_dict, 'degree')\nsorted_degree = sorted(degree_dict.items(), key=itemgetter(1), reverse=True)",
   "execution_count": null,
   "outputs": []
  },
  {
   "cell_type": "code",
   "metadata": {
    "tags": [],
    "cell_id": "00014-b45232ff-fe1e-4def-937e-373043dbeba9",
    "deepnote_to_be_reexecuted": true,
    "source_hash": "72b0273",
    "execution_start": 1644859956108,
    "execution_millis": 139,
    "deepnote_output_heights": [
     538
    ],
    "deepnote_cell_type": "code"
   },
   "source": "figure(figsize=(10, 8))\nnx.draw_shell(G, node_size=15)\\\n",
   "execution_count": null,
   "outputs": [
    {
     "data": {
      "text/plain": "<Figure size 720x576 with 1 Axes>",
      "image/png": "[encoded data removed]"
     },
     "metadata": {
      "image/png": {
       "width": 734,
       "height": 590
      }
     },
     "output_type": "display_data"
    }
   ]
  },
  {
   "cell_type": "code",
   "metadata": {
    "tags": [],
    "cell_id": "00016-52256e28-66dd-4b2d-8270-50ba5e90073f",
    "deepnote_to_be_reexecuted": true,
    "source_hash": "d2c19b90",
    "execution_start": 1644859956251,
    "execution_millis": 60,
    "deepnote_cell_type": "code"
   },
   "source": "from pprint import pprint\n\npprint([(X.text, X.label_) for X in docs[0].ents])\n\nprint(docs[0].text)\nfor token in docs[0]:\n    print(token.text, token.pos_, token.dep_, type(token))",
   "execution_count": null,
   "outputs": [
    {
     "name": "stdout",
     "text": "[('Promovendo a Inovação para o Desenvolvimento da Aviação Global', 'MISC')]\nMais de 65,5 milhões de pessoas trabalham no setor com foco em proteção de passageiros, tripulações e transporte de vacinas; tema é \"Promovendo a Inovação para o Desenvolvimento da Aviação Global\".\n\nClique aqui para ler a notícia completa\nMais ADV advmod <class 'spacy.tokens.token.Token'>\nde ADP fixed <class 'spacy.tokens.token.Token'>\n65,5 NUM nsubj <class 'spacy.tokens.token.Token'>\nmilhões NUM flat <class 'spacy.tokens.token.Token'>\nde ADP case <class 'spacy.tokens.token.Token'>\npessoas NOUN nmod <class 'spacy.tokens.token.Token'>\ntrabalham VERB ROOT <class 'spacy.tokens.token.Token'>\nno ADP case <class 'spacy.tokens.token.Token'>\nsetor NOUN obl <class 'spacy.tokens.token.Token'>\ncom ADP case <class 'spacy.tokens.token.Token'>\nfoco NOUN obl <class 'spacy.tokens.token.Token'>\nem ADP case <class 'spacy.tokens.token.Token'>\nproteção NOUN nmod <class 'spacy.tokens.token.Token'>\nde ADP case <class 'spacy.tokens.token.Token'>\npassageiros NOUN nmod <class 'spacy.tokens.token.Token'>\n, PUNCT punct <class 'spacy.tokens.token.Token'>\ntripulações NOUN conj <class 'spacy.tokens.token.Token'>\ne CCONJ cc <class 'spacy.tokens.token.Token'>\ntransporte NOUN conj <class 'spacy.tokens.token.Token'>\nde ADP case <class 'spacy.tokens.token.Token'>\nvacinas NOUN nmod <class 'spacy.tokens.token.Token'>\n; PUNCT punct <class 'spacy.tokens.token.Token'>\ntema NOUN nsubj <class 'spacy.tokens.token.Token'>\né AUX cop <class 'spacy.tokens.token.Token'>\n\" PUNCT punct <class 'spacy.tokens.token.Token'>\nPromovendo VERB ROOT <class 'spacy.tokens.token.Token'>\na DET flat:name <class 'spacy.tokens.token.Token'>\nInovação PROPN obj <class 'spacy.tokens.token.Token'>\npara ADP case <class 'spacy.tokens.token.Token'>\no PROPN nmod <class 'spacy.tokens.token.Token'>\nDesenvolvimento PROPN flat:name <class 'spacy.tokens.token.Token'>\nda ADP case <class 'spacy.tokens.token.Token'>\nAviação PROPN obl <class 'spacy.tokens.token.Token'>\nGlobal PROPN flat:name <class 'spacy.tokens.token.Token'>\n\" PUNCT punct <class 'spacy.tokens.token.Token'>\n. PUNCT punct <class 'spacy.tokens.token.Token'>\n\n\n SPACE dep <class 'spacy.tokens.token.Token'>\nClique VERB ROOT <class 'spacy.tokens.token.Token'>\naqui ADV advmod <class 'spacy.tokens.token.Token'>\npara SCONJ mark <class 'spacy.tokens.token.Token'>\nler VERB advcl <class 'spacy.tokens.token.Token'>\na DET det <class 'spacy.tokens.token.Token'>\nnotícia NOUN obj <class 'spacy.tokens.token.Token'>\ncompleta ADJ amod <class 'spacy.tokens.token.Token'>\n",
     "output_type": "stream"
    }
   ]
  },
  {
   "cell_type": "code",
   "metadata": {
    "tags": [],
    "cell_id": "00015-eb18570b-236e-4738-85de-94a3a3584b34",
    "deepnote_to_be_reexecuted": true,
    "source_hash": "b623e53d",
    "execution_start": 1644859956357,
    "execution_millis": 1,
    "deepnote_cell_type": "code"
   },
   "source": "",
   "execution_count": null,
   "outputs": []
  },
  {
   "cell_type": "markdown",
   "source": "<a style='text-decoration:none;line-height:16px;display:flex;color:#5B5B62;padding:10px;justify-content:end;' href='https://deepnote.com?utm_source=created-in-deepnote-cell&projectId=2392c230-4672-47ef-bbd2-e97d3feaff76' target=\"_blank\">\n<img alt='Created in deepnote.com' style='display:inline;max-height:16px;margin:0px;margin-right:7.5px;' src='data:image/svg+xml;base64,PD94bWwgdmVyc2lvbj0iMS4wIiBlbmNvZGluZz0iVVRGLTgiPz4KPHN2ZyB3aWR0aD0iODBweCIgaGVpZ2h0PSI4MHB4IiB2aWV3Qm94PSIwIDAgODAgODAiIHZlcnNpb249IjEuMSIgeG1sbnM9Imh0dHA6Ly93d3cudzMub3JnLzIwMDAvc3ZnIiB4bWxuczp4bGluaz0iaHR0cDovL3d3dy53My5vcmcvMTk5OS94bGluayI+CiAgICA8IS0tIEdlbmVyYXRvcjogU2tldGNoIDU0LjEgKDc2NDkwKSAtIGh0dHBzOi8vc2tldGNoYXBwLmNvbSAtLT4KICAgIDx0aXRsZT5Hcm91cCAzPC90aXRsZT4KICAgIDxkZXNjPkNyZWF0ZWQgd2l0aCBTa2V0Y2guPC9kZXNjPgogICAgPGcgaWQ9IkxhbmRpbmciIHN0cm9rZT0ibm9uZSIgc3Ryb2tlLXdpZHRoPSIxIiBmaWxsPSJub25lIiBmaWxsLXJ1bGU9ImV2ZW5vZGQiPgogICAgICAgIDxnIGlkPSJBcnRib2FyZCIgdHJhbnNmb3JtPSJ0cmFuc2xhdGUoLTEyMzUuMDAwMDAwLCAtNzkuMDAwMDAwKSI+CiAgICAgICAgICAgIDxnIGlkPSJHcm91cC0zIiB0cmFuc2Zvcm09InRyYW5zbGF0ZSgxMjM1LjAwMDAwMCwgNzkuMDAwMDAwKSI+CiAgICAgICAgICAgICAgICA8cG9seWdvbiBpZD0iUGF0aC0yMCIgZmlsbD0iIzAyNjVCNCIgcG9pbnRzPSIyLjM3NjIzNzYyIDgwIDM4LjA0NzY2NjcgODAgNTcuODIxNzgyMiA3My44MDU3NTkyIDU3LjgyMTc4MjIgMzIuNzU5MjczOSAzOS4xNDAyMjc4IDMxLjY4MzE2ODMiPjwvcG9seWdvbj4KICAgICAgICAgICAgICAgIDxwYXRoIGQ9Ik0zNS4wMDc3MTgsODAgQzQyLjkwNjIwMDcsNzYuNDU0OTM1OCA0Ny41NjQ5MTY3LDcxLjU0MjI2NzEgNDguOTgzODY2LDY1LjI2MTk5MzkgQzUxLjExMjI4OTksNTUuODQxNTg0MiA0MS42NzcxNzk1LDQ5LjIxMjIyODQgMjUuNjIzOTg0Niw0OS4yMTIyMjg0IEMyNS40ODQ5Mjg5LDQ5LjEyNjg0NDggMjkuODI2MTI5Niw0My4yODM4MjQ4IDM4LjY0NzU4NjksMzEuNjgzMTY4MyBMNzIuODcxMjg3MSwzMi41NTQ0MjUgTDY1LjI4MDk3Myw2Ny42NzYzNDIxIEw1MS4xMTIyODk5LDc3LjM3NjE0NCBMMzUuMDA3NzE4LDgwIFoiIGlkPSJQYXRoLTIyIiBmaWxsPSIjMDAyODY4Ij48L3BhdGg+CiAgICAgICAgICAgICAgICA8cGF0aCBkPSJNMCwzNy43MzA0NDA1IEwyNy4xMTQ1MzcsMC4yNTcxMTE0MzYgQzYyLjM3MTUxMjMsLTEuOTkwNzE3MDEgODAsMTAuNTAwMzkyNyA4MCwzNy43MzA0NDA1IEM4MCw2NC45NjA0ODgyIDY0Ljc3NjUwMzgsNzkuMDUwMzQxNCAzNC4zMjk1MTEzLDgwIEM0Ny4wNTUzNDg5LDc3LjU2NzA4MDggNTMuNDE4MjY3Nyw3MC4zMTM2MTAzIDUzLjQxODI2NzcsNTguMjM5NTg4NSBDNTMuNDE4MjY3Nyw0MC4xMjg1NTU3IDM2LjMwMzk1NDQsMzcuNzMwNDQwNSAyNS4yMjc0MTcsMzcuNzMwNDQwNSBDMTcuODQzMDU4NiwzNy43MzA0NDA1IDkuNDMzOTE5NjYsMzcuNzMwNDQwNSAwLDM3LjczMDQ0MDUgWiIgaWQ9IlBhdGgtMTkiIGZpbGw9IiMzNzkzRUYiPjwvcGF0aD4KICAgICAgICAgICAgPC9nPgogICAgICAgIDwvZz4KICAgIDwvZz4KPC9zdmc+' > </img>\nCreated in <span style='font-weight:600;margin-left:4px;'>Deepnote</span></a>",
   "metadata": {
    "tags": [],
    "created_in_deepnote_cell": true,
    "deepnote_cell_type": "markdown"
   }
  }
 ],
 "nbformat": 4,
 "nbformat_minor": 2,
 "metadata": {
  "orig_nbformat": 2,
  "deepnote": {
   "is_reactive": false
  },
  "deepnote_notebook_id": "a4e1cec2-a549-4e83-b929-b16b4987184d",
  "deepnote_execution_queue": []
 }
}