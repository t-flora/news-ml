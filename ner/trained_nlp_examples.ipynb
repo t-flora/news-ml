{
 "cells": [
  {
   "cell_type": "code",
   "execution_count": 32,
   "metadata": {},
   "outputs": [],
   "source": [
    "import spacy\n",
    "from spacy.training.example import Example\n",
    "from spacy.tokens import DocBin\n",
    "import random\n",
    "from spacy.util import minibatch, compounding\n",
    "from pathlib import Path\n",
    "from annotated_data import TRAIN_DATA\n",
    "from valid_data import VALID_DATA"
   ]
  },
  {
   "cell_type": "code",
   "execution_count": 34,
   "metadata": {},
   "outputs": [],
   "source": [
    "trained_nlp = spacy.load(\"models/output/model-last\")"
   ]
  },
  {
   "cell_type": "code",
   "execution_count": 35,
   "metadata": {},
   "outputs": [
    {
     "name": "stdout",
     "output_type": "stream",
     "text": [
      "Lilium UAM_COMPANY\n",
      "German Ministry GOVERNMENT_AGENCY\n",
      "Silly Walks INFRASTRUCTURE\n",
      "2025 DEADLINE\n",
      "Tencent Technologies PARTNER_COMPANY\n"
     ]
    }
   ],
   "source": [
    "text = \"Lilium is expecting to receive funding from the German Ministry of Silly Walks by 2025 with support from Tencent Technologies\"\n",
    "doc = trained_nlp(text)\n",
    "for ent in doc.ents:\n",
    "    print(ent.text, ent.label_)"
   ]
  },
  {
   "cell_type": "code",
   "execution_count": 36,
   "metadata": {},
   "outputs": [
    {
     "name": "stdout",
     "output_type": "stream",
     "text": [
      "Joby Aviation UAM_COMPANY\n",
      "2030 DEADLINE\n"
     ]
    }
   ],
   "source": [
    "text = \"Joby Aviation to start use of nuclear-powered aircraft in operations for Canadian Police from 2030\"\n",
    "doc = trained_nlp(text)\n",
    "for ent in doc.ents:\n",
    "    print(ent.text, ent.label_)"
   ]
  },
  {
   "cell_type": "code",
   "execution_count": 39,
   "metadata": {},
   "outputs": [],
   "source": [
    "# Unsuccessful recent example\n",
    "evtol_headline = \"Vertical Aerospace’s VX4 eVTOL aircraft could be flying in Turkey as early as 2024 — that’s if the deal between global aircraft lessor Avolon and Turkish aviation group Gözen Holding comes to fruition. The company announced this week that Avolon has placed up to 100 of Vertical’s eVTOL aircraft with Gözen.\"\n",
    "doc = trained_nlp(evtol_headline)\n",
    "for ent in doc.ents:\n",
    "    print(ent.text, ent.label_)"
   ]
  }
 ],
 "metadata": {
  "kernelspec": {
   "display_name": "Python 3",
   "language": "python",
   "name": "python3"
  },
  "language_info": {
   "codemirror_mode": {
    "name": "ipython",
    "version": 3
   },
   "file_extension": ".py",
   "mimetype": "text/x-python",
   "name": "python",
   "nbconvert_exporter": "python",
   "pygments_lexer": "ipython3",
   "version": "3.8.10"
  }
 },
 "nbformat": 4,
 "nbformat_minor": 4
}
