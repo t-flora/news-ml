{
 "cells": [
  {
   "cell_type": "code",
   "execution_count": 7,
   "metadata": {},
   "outputs": [],
   "source": [
    "use_most_recent = True\n",
    "custom_filepath = \"\""
   ]
  },
  {
   "cell_type": "code",
   "execution_count": 8,
   "metadata": {
    "cell_id": "00002-c41d08ff-362c-432e-99b8-f7320386c081",
    "deepnote_cell_type": "code",
    "deepnote_to_be_reexecuted": false,
    "execution_millis": 11079,
    "execution_start": 1639102196764,
    "source_hash": "3d0d80e2",
    "tags": []
   },
   "outputs": [
    {
     "name": "stderr",
     "output_type": "stream",
     "text": [
      "[nltk_data] Downloading package stopwords to /root/nltk_data...\n",
      "[nltk_data]   Package stopwords is already up-to-date!\n"
     ]
    }
   ],
   "source": [
    "from sklearn.feature_extraction.text import TfidfVectorizer, CountVectorizer\n",
    "from sklearn.decomposition import (\n",
    "    NMF, \n",
    "    LatentDirichletAllocation,\n",
    "    TruncatedSVD\n",
    ")\n",
    "import requests, gensim, spacy, json, nltk\n",
    "nltk.download(\"stopwords\")\n",
    "import glob\n",
    "# warnings.filterwarnings('ignore')\n",
    "# from sklearn.model_selection import GridSearchCV\n",
    "# from nltk.tokenize import wordpunct_tokenize\n",
    "# from nltk.metrics import ConfusionMatrix\n",
    "# from nltk.tokenize import word_tokenize\n",
    "# from nltk.probability import FreqDist\n",
    "# from nltk.stem import PorterStemmer, WordNetLemmatizer\n",
    "# import matplotlib.pyplot as plt\n",
    "# from functools import reduce\n",
    "# from io import StringIO\n",
    "# from time import time\n",
    "import pandas as pd\n",
    "# import numpy as np\n",
    "# import re\n",
    "import pyLDAvis\n",
    "import pyLDAvis.sklearn\n",
    "pyLDAvis.enable_notebook()\n",
    "import warnings\n",
    "warnings.filterwarnings(\"ignore\", category=DeprecationWarning)\n",
    "from sklearn.feature_extraction.text import CountVectorizer, TfidfVectorizer\n",
    "from sklearn.decomposition import LatentDirichletAllocation\n",
    "import pandas as pd"
   ]
  },
  {
   "cell_type": "code",
   "execution_count": 9,
   "metadata": {
    "cell_id": "00002-aeed2b19-f4a2-41ed-9eba-a591f39ab3a3",
    "deepnote_cell_type": "code",
    "deepnote_to_be_reexecuted": false,
    "execution_millis": 8,
    "execution_start": 1639102207857,
    "source_hash": "50686fe8",
    "tags": []
   },
   "outputs": [],
   "source": [
    "# Get stopwords for Porguese and add prominent missing stopword (verb \"to be\")\n",
    "# Full list of stopwords printed in appendix\n",
    "pt_stopwords = nltk.corpus.stopwords.words('portuguese')\n",
    "en_stopwords = nltk.corpus.stopwords.words('english')\n",
    "html_elements = ['li', 'ul']\n",
    "pt_stopwords.append(\"ser\")\n",
    "nltk_stopwords = pt_stopwords + en_stopwords + html_elements"
   ]
  },
  {
   "cell_type": "code",
   "execution_count": 10,
   "metadata": {
    "cell_id": "00003-c716448f-60b4-44a6-b0e5-4d030120cad1",
    "deepnote_cell_type": "code",
    "deepnote_output_heights": [
     null,
     21.1875
    ],
    "deepnote_to_be_reexecuted": false,
    "execution_millis": 337,
    "execution_start": 1639102207871,
    "source_hash": "2af1c634",
    "tags": []
   },
   "outputs": [],
   "source": [
    "if use_most_recent:\n",
    "    filename = max(glob.iglob(f\"data/csvfiles/*.csv\"), key = os.path.getmtime)\n",
    "    df = pd.read_csv(filename)\n",
    "else:\n",
    "    df = pd.read_csv(custom_filepath)\n",
    "docs_raw = df['text'].astype(str)"
   ]
  },
  {
   "cell_type": "code",
   "execution_count": 11,
   "metadata": {
    "cell_id": "00002-ec5debd7-d035-4f47-9492-b9df01d25d0b",
    "deepnote_cell_type": "code",
    "deepnote_to_be_reexecuted": false,
    "execution_millis": 6191,
    "execution_start": 1639102208211,
    "source_hash": "112a4ac3",
    "tags": []
   },
   "outputs": [
    {
     "name": "stderr",
     "output_type": "stream",
     "text": [
      "/mnt/c/Users/TFLORA/capstone-project/venv/lib/python3.8/site-packages/sklearn/feature_extraction/text.py:396: UserWarning: Your stop_words may be inconsistent with your preprocessing. Tokenizing the stop words generated tokens ['ate', 'eramos', 'estao', 'estavamos', 'estiveramos', 'estivessemos', 'foramos', 'fossemos', 'hao', 'houveramos', 'houverao', 'houveriamos', 'houvessemos', 'nao', 'sao', 'sera', 'serao', 'seriamos', 'tambem', 'tera', 'terao', 'teriamos', 'tinhamos', 'tiveramos', 'tivessemos', 'voce', 'voces'] not in stop_words.\n",
      "  warnings.warn(\n",
      "/mnt/c/Users/TFLORA/capstone-project/venv/lib/python3.8/site-packages/sklearn/feature_extraction/text.py:2029: UserWarning: Only (<class 'numpy.float64'>, <class 'numpy.float32'>, <class 'numpy.float16'>) 'dtype' should be used. <class 'numpy.int64'> 'dtype' will be converted to np.float64.\n",
      "  warnings.warn(\n"
     ]
    }
   ],
   "source": [
    "tf_vectorizer = CountVectorizer(strip_accents = 'unicode',\n",
    "                                stop_words = nltk_stopwords,\n",
    "                                lowercase = True,\n",
    "                                token_pattern = r'\\b[a-zA-Z]{3,}\\b',\n",
    "                                max_df = 0.5, \n",
    "                                min_df = 10)\n",
    "dtm_tf = tf_vectorizer.fit_transform(docs_raw)\n",
    "tfidf_vectorizer = TfidfVectorizer(**tf_vectorizer.get_params())\n",
    "dtm_tfidf = tfidf_vectorizer.fit_transform(docs_raw)"
   ]
  },
  {
   "cell_type": "code",
   "execution_count": 12,
   "metadata": {
    "cell_id": "00003-41003213-6fa5-4e61-99cd-8fb6c956b445",
    "deepnote_cell_type": "code",
    "deepnote_output_heights": [
     null,
     21.1875
    ],
    "deepnote_to_be_reexecuted": false,
    "execution_millis": 45621,
    "execution_start": 1639102214410,
    "source_hash": "8d11146d",
    "tags": []
   },
   "outputs": [
    {
     "data": {
      "text/plain": [
       "LatentDirichletAllocation(random_state=0)"
      ]
     },
     "execution_count": 12,
     "metadata": {},
     "output_type": "execute_result"
    }
   ],
   "source": [
    "# for TF DTM\n",
    "lda_tf = LatentDirichletAllocation(n_components=10, random_state=0)\n",
    "lda_tf.fit(dtm_tf)\n",
    "# for TFIDF DTM\n",
    "lda_tfidf = LatentDirichletAllocation(n_components=10, random_state=0)\n",
    "lda_tfidf.fit(dtm_tfidf)"
   ]
  },
  {
   "cell_type": "code",
   "execution_count": 13,
   "metadata": {
    "cell_id": "00004-b03baf5d-8db3-4be8-acab-cd35d266175a",
    "deepnote_cell_type": "code",
    "deepnote_output_heights": [
     null,
     606.546875
    ],
    "deepnote_to_be_reexecuted": false,
    "execution_millis": 7238,
    "execution_start": 1639102260031,
    "source_hash": "2b1153f5",
    "tags": []
   },
   "outputs": [
    {
     "name": "stderr",
     "output_type": "stream",
     "text": [
      "/mnt/c/Users/TFLORA/capstone-project/venv/lib/python3.8/site-packages/sklearn/utils/deprecation.py:87: FutureWarning: Function get_feature_names is deprecated; get_feature_names is deprecated in 1.0 and will be removed in 1.2. Please use get_feature_names_out instead.\n",
      "  warnings.warn(msg, category=FutureWarning)\n",
      "/mnt/c/Users/TFLORA/capstone-project/venv/lib/python3.8/site-packages/past/builtins/misc.py:45: DeprecationWarning: the imp module is deprecated in favour of importlib; see the module's documentation for alternative uses\n",
      "  from imp import reload\n",
      "/mnt/c/Users/TFLORA/capstone-project/venv/lib/python3.8/site-packages/past/builtins/misc.py:45: DeprecationWarning: the imp module is deprecated in favour of importlib; see the module's documentation for alternative uses\n",
      "  from imp import reload\n",
      "/mnt/c/Users/TFLORA/capstone-project/venv/lib/python3.8/site-packages/past/builtins/misc.py:45: DeprecationWarning: the imp module is deprecated in favour of importlib; see the module's documentation for alternative uses\n",
      "  from imp import reload\n",
      "/mnt/c/Users/TFLORA/capstone-project/venv/lib/python3.8/site-packages/past/builtins/misc.py:45: DeprecationWarning: the imp module is deprecated in favour of importlib; see the module's documentation for alternative uses\n",
      "  from imp import reload\n",
      "/mnt/c/Users/TFLORA/capstone-project/venv/lib/python3.8/site-packages/past/builtins/misc.py:45: DeprecationWarning: the imp module is deprecated in favour of importlib; see the module's documentation for alternative uses\n",
      "  from imp import reload\n",
      "/mnt/c/Users/TFLORA/capstone-project/venv/lib/python3.8/site-packages/past/builtins/misc.py:45: DeprecationWarning: the imp module is deprecated in favour of importlib; see the module's documentation for alternative uses\n",
      "  from imp import reload\n",
      "/mnt/c/Users/TFLORA/capstone-project/venv/lib/python3.8/site-packages/past/builtins/misc.py:45: DeprecationWarning: the imp module is deprecated in favour of importlib; see the module's documentation for alternative uses\n",
      "  from imp import reload\n",
      "/mnt/c/Users/TFLORA/capstone-project/venv/lib/python3.8/site-packages/past/builtins/misc.py:45: DeprecationWarning: the imp module is deprecated in favour of importlib; see the module's documentation for alternative uses\n",
      "  from imp import reload\n"
     ]
    },
    {
     "ename": "TypeError",
     "evalue": "Object of type complex is not JSON serializable",
     "output_type": "error",
     "traceback": [
      "\u001b[0;31m---------------------------------------------------------------------------\u001b[0m",
      "\u001b[0;31mTypeError\u001b[0m                                 Traceback (most recent call last)",
      "File \u001b[0;32m/mnt/c/Users/TFLORA/capstone-project/venv/lib/python3.8/site-packages/IPython/core/formatters.py:339\u001b[0m, in \u001b[0;36mBaseFormatter.__call__\u001b[0;34m(self, obj)\u001b[0m\n\u001b[1;32m    <a href='file:///mnt/c/Users/TFLORA/capstone-project/venv/lib/python3.8/site-packages/IPython/core/formatters.py?line=336'>337</a>\u001b[0m     \u001b[39mpass\u001b[39;00m\n\u001b[1;32m    <a href='file:///mnt/c/Users/TFLORA/capstone-project/venv/lib/python3.8/site-packages/IPython/core/formatters.py?line=337'>338</a>\u001b[0m \u001b[39melse\u001b[39;00m:\n\u001b[0;32m--> <a href='file:///mnt/c/Users/TFLORA/capstone-project/venv/lib/python3.8/site-packages/IPython/core/formatters.py?line=338'>339</a>\u001b[0m     \u001b[39mreturn\u001b[39;00m printer(obj)\n\u001b[1;32m    <a href='file:///mnt/c/Users/TFLORA/capstone-project/venv/lib/python3.8/site-packages/IPython/core/formatters.py?line=339'>340</a>\u001b[0m \u001b[39m# Finally look for special method names\u001b[39;00m\n\u001b[1;32m    <a href='file:///mnt/c/Users/TFLORA/capstone-project/venv/lib/python3.8/site-packages/IPython/core/formatters.py?line=340'>341</a>\u001b[0m method \u001b[39m=\u001b[39m get_real_method(obj, \u001b[39mself\u001b[39m\u001b[39m.\u001b[39mprint_method)\n",
      "File \u001b[0;32m/mnt/c/Users/TFLORA/capstone-project/venv/lib/python3.8/site-packages/pyLDAvis/_display.py:308\u001b[0m, in \u001b[0;36menable_notebook.<locals>.<lambda>\u001b[0;34m(data, kwds)\u001b[0m\n\u001b[1;32m    <a href='file:///mnt/c/Users/TFLORA/capstone-project/venv/lib/python3.8/site-packages/pyLDAvis/_display.py?line=304'>305</a>\u001b[0m ip \u001b[39m=\u001b[39m get_ipython()\n\u001b[1;32m    <a href='file:///mnt/c/Users/TFLORA/capstone-project/venv/lib/python3.8/site-packages/pyLDAvis/_display.py?line=305'>306</a>\u001b[0m formatter \u001b[39m=\u001b[39m ip\u001b[39m.\u001b[39mdisplay_formatter\u001b[39m.\u001b[39mformatters[\u001b[39m'\u001b[39m\u001b[39mtext/html\u001b[39m\u001b[39m'\u001b[39m]\n\u001b[1;32m    <a href='file:///mnt/c/Users/TFLORA/capstone-project/venv/lib/python3.8/site-packages/pyLDAvis/_display.py?line=306'>307</a>\u001b[0m formatter\u001b[39m.\u001b[39mfor_type(PreparedData,\n\u001b[0;32m--> <a href='file:///mnt/c/Users/TFLORA/capstone-project/venv/lib/python3.8/site-packages/pyLDAvis/_display.py?line=307'>308</a>\u001b[0m                    \u001b[39mlambda\u001b[39;00m data, kwds\u001b[39m=\u001b[39mkwargs: prepared_data_to_html(data, \u001b[39m*\u001b[39;49m\u001b[39m*\u001b[39;49mkwds))\n",
      "File \u001b[0;32m/mnt/c/Users/TFLORA/capstone-project/venv/lib/python3.8/site-packages/pyLDAvis/_display.py:177\u001b[0m, in \u001b[0;36mprepared_data_to_html\u001b[0;34m(data, d3_url, ldavis_url, ldavis_css_url, template_type, visid, use_http)\u001b[0m\n\u001b[1;32m    <a href='file:///mnt/c/Users/TFLORA/capstone-project/venv/lib/python3.8/site-packages/pyLDAvis/_display.py?line=169'>170</a>\u001b[0m \u001b[39melif\u001b[39;00m re\u001b[39m.\u001b[39msearch(\u001b[39mr\u001b[39m\u001b[39m'\u001b[39m\u001b[39m\\\u001b[39m\u001b[39ms\u001b[39m\u001b[39m'\u001b[39m, visid):\n\u001b[1;32m    <a href='file:///mnt/c/Users/TFLORA/capstone-project/venv/lib/python3.8/site-packages/pyLDAvis/_display.py?line=170'>171</a>\u001b[0m     \u001b[39mraise\u001b[39;00m \u001b[39mValueError\u001b[39;00m(\u001b[39m\"\u001b[39m\u001b[39mvisid must not contain spaces\u001b[39m\u001b[39m\"\u001b[39m)\n\u001b[1;32m    <a href='file:///mnt/c/Users/TFLORA/capstone-project/venv/lib/python3.8/site-packages/pyLDAvis/_display.py?line=172'>173</a>\u001b[0m \u001b[39mreturn\u001b[39;00m template\u001b[39m.\u001b[39mrender(visid\u001b[39m=\u001b[39mjson\u001b[39m.\u001b[39mdumps(visid),\n\u001b[1;32m    <a href='file:///mnt/c/Users/TFLORA/capstone-project/venv/lib/python3.8/site-packages/pyLDAvis/_display.py?line=173'>174</a>\u001b[0m                        visid_raw\u001b[39m=\u001b[39mvisid,\n\u001b[1;32m    <a href='file:///mnt/c/Users/TFLORA/capstone-project/venv/lib/python3.8/site-packages/pyLDAvis/_display.py?line=174'>175</a>\u001b[0m                        d3_url\u001b[39m=\u001b[39md3_url,\n\u001b[1;32m    <a href='file:///mnt/c/Users/TFLORA/capstone-project/venv/lib/python3.8/site-packages/pyLDAvis/_display.py?line=175'>176</a>\u001b[0m                        ldavis_url\u001b[39m=\u001b[39mldavis_url,\n\u001b[0;32m--> <a href='file:///mnt/c/Users/TFLORA/capstone-project/venv/lib/python3.8/site-packages/pyLDAvis/_display.py?line=176'>177</a>\u001b[0m                        vis_json\u001b[39m=\u001b[39mdata\u001b[39m.\u001b[39;49mto_json(),\n\u001b[1;32m    <a href='file:///mnt/c/Users/TFLORA/capstone-project/venv/lib/python3.8/site-packages/pyLDAvis/_display.py?line=177'>178</a>\u001b[0m                        ldavis_css_url\u001b[39m=\u001b[39mldavis_css_url)\n",
      "File \u001b[0;32m/mnt/c/Users/TFLORA/capstone-project/venv/lib/python3.8/site-packages/pyLDAvis/_prepare.py:471\u001b[0m, in \u001b[0;36mPreparedData.to_json\u001b[0;34m(self)\u001b[0m\n\u001b[1;32m    <a href='file:///mnt/c/Users/TFLORA/capstone-project/venv/lib/python3.8/site-packages/pyLDAvis/_prepare.py?line=469'>470</a>\u001b[0m \u001b[39mdef\u001b[39;00m \u001b[39mto_json\u001b[39m(\u001b[39mself\u001b[39m):\n\u001b[0;32m--> <a href='file:///mnt/c/Users/TFLORA/capstone-project/venv/lib/python3.8/site-packages/pyLDAvis/_prepare.py?line=470'>471</a>\u001b[0m     \u001b[39mreturn\u001b[39;00m json\u001b[39m.\u001b[39;49mdumps(\u001b[39mself\u001b[39;49m\u001b[39m.\u001b[39;49mto_dict(), \u001b[39mcls\u001b[39;49m\u001b[39m=\u001b[39;49mNumPyEncoder)\n",
      "File \u001b[0;32m/usr/lib/python3.8/json/__init__.py:234\u001b[0m, in \u001b[0;36mdumps\u001b[0;34m(obj, skipkeys, ensure_ascii, check_circular, allow_nan, cls, indent, separators, default, sort_keys, **kw)\u001b[0m\n\u001b[1;32m    <a href='file:///usr/lib/python3.8/json/__init__.py?line=231'>232</a>\u001b[0m \u001b[39mif\u001b[39;00m \u001b[39mcls\u001b[39m \u001b[39mis\u001b[39;00m \u001b[39mNone\u001b[39;00m:\n\u001b[1;32m    <a href='file:///usr/lib/python3.8/json/__init__.py?line=232'>233</a>\u001b[0m     \u001b[39mcls\u001b[39m \u001b[39m=\u001b[39m JSONEncoder\n\u001b[0;32m--> <a href='file:///usr/lib/python3.8/json/__init__.py?line=233'>234</a>\u001b[0m \u001b[39mreturn\u001b[39;00m \u001b[39mcls\u001b[39;49m(\n\u001b[1;32m    <a href='file:///usr/lib/python3.8/json/__init__.py?line=234'>235</a>\u001b[0m     skipkeys\u001b[39m=\u001b[39;49mskipkeys, ensure_ascii\u001b[39m=\u001b[39;49mensure_ascii,\n\u001b[1;32m    <a href='file:///usr/lib/python3.8/json/__init__.py?line=235'>236</a>\u001b[0m     check_circular\u001b[39m=\u001b[39;49mcheck_circular, allow_nan\u001b[39m=\u001b[39;49mallow_nan, indent\u001b[39m=\u001b[39;49mindent,\n\u001b[1;32m    <a href='file:///usr/lib/python3.8/json/__init__.py?line=236'>237</a>\u001b[0m     separators\u001b[39m=\u001b[39;49mseparators, default\u001b[39m=\u001b[39;49mdefault, sort_keys\u001b[39m=\u001b[39;49msort_keys,\n\u001b[1;32m    <a href='file:///usr/lib/python3.8/json/__init__.py?line=237'>238</a>\u001b[0m     \u001b[39m*\u001b[39;49m\u001b[39m*\u001b[39;49mkw)\u001b[39m.\u001b[39;49mencode(obj)\n",
      "File \u001b[0;32m/usr/lib/python3.8/json/encoder.py:199\u001b[0m, in \u001b[0;36mJSONEncoder.encode\u001b[0;34m(self, o)\u001b[0m\n\u001b[1;32m    <a href='file:///usr/lib/python3.8/json/encoder.py?line=194'>195</a>\u001b[0m         \u001b[39mreturn\u001b[39;00m encode_basestring(o)\n\u001b[1;32m    <a href='file:///usr/lib/python3.8/json/encoder.py?line=195'>196</a>\u001b[0m \u001b[39m# This doesn't pass the iterator directly to ''.join() because the\u001b[39;00m\n\u001b[1;32m    <a href='file:///usr/lib/python3.8/json/encoder.py?line=196'>197</a>\u001b[0m \u001b[39m# exceptions aren't as detailed.  The list call should be roughly\u001b[39;00m\n\u001b[1;32m    <a href='file:///usr/lib/python3.8/json/encoder.py?line=197'>198</a>\u001b[0m \u001b[39m# equivalent to the PySequence_Fast that ''.join() would do.\u001b[39;00m\n\u001b[0;32m--> <a href='file:///usr/lib/python3.8/json/encoder.py?line=198'>199</a>\u001b[0m chunks \u001b[39m=\u001b[39m \u001b[39mself\u001b[39;49m\u001b[39m.\u001b[39;49miterencode(o, _one_shot\u001b[39m=\u001b[39;49m\u001b[39mTrue\u001b[39;49;00m)\n\u001b[1;32m    <a href='file:///usr/lib/python3.8/json/encoder.py?line=199'>200</a>\u001b[0m \u001b[39mif\u001b[39;00m \u001b[39mnot\u001b[39;00m \u001b[39misinstance\u001b[39m(chunks, (\u001b[39mlist\u001b[39m, \u001b[39mtuple\u001b[39m)):\n\u001b[1;32m    <a href='file:///usr/lib/python3.8/json/encoder.py?line=200'>201</a>\u001b[0m     chunks \u001b[39m=\u001b[39m \u001b[39mlist\u001b[39m(chunks)\n",
      "File \u001b[0;32m/usr/lib/python3.8/json/encoder.py:257\u001b[0m, in \u001b[0;36mJSONEncoder.iterencode\u001b[0;34m(self, o, _one_shot)\u001b[0m\n\u001b[1;32m    <a href='file:///usr/lib/python3.8/json/encoder.py?line=251'>252</a>\u001b[0m \u001b[39melse\u001b[39;00m:\n\u001b[1;32m    <a href='file:///usr/lib/python3.8/json/encoder.py?line=252'>253</a>\u001b[0m     _iterencode \u001b[39m=\u001b[39m _make_iterencode(\n\u001b[1;32m    <a href='file:///usr/lib/python3.8/json/encoder.py?line=253'>254</a>\u001b[0m         markers, \u001b[39mself\u001b[39m\u001b[39m.\u001b[39mdefault, _encoder, \u001b[39mself\u001b[39m\u001b[39m.\u001b[39mindent, floatstr,\n\u001b[1;32m    <a href='file:///usr/lib/python3.8/json/encoder.py?line=254'>255</a>\u001b[0m         \u001b[39mself\u001b[39m\u001b[39m.\u001b[39mkey_separator, \u001b[39mself\u001b[39m\u001b[39m.\u001b[39mitem_separator, \u001b[39mself\u001b[39m\u001b[39m.\u001b[39msort_keys,\n\u001b[1;32m    <a href='file:///usr/lib/python3.8/json/encoder.py?line=255'>256</a>\u001b[0m         \u001b[39mself\u001b[39m\u001b[39m.\u001b[39mskipkeys, _one_shot)\n\u001b[0;32m--> <a href='file:///usr/lib/python3.8/json/encoder.py?line=256'>257</a>\u001b[0m \u001b[39mreturn\u001b[39;00m _iterencode(o, \u001b[39m0\u001b[39;49m)\n",
      "File \u001b[0;32m/mnt/c/Users/TFLORA/capstone-project/venv/lib/python3.8/site-packages/pyLDAvis/utils.py:150\u001b[0m, in \u001b[0;36mNumPyEncoder.default\u001b[0;34m(self, obj)\u001b[0m\n\u001b[1;32m    <a href='file:///mnt/c/Users/TFLORA/capstone-project/venv/lib/python3.8/site-packages/pyLDAvis/utils.py?line=147'>148</a>\u001b[0m \u001b[39mif\u001b[39;00m \u001b[39misinstance\u001b[39m(obj, np\u001b[39m.\u001b[39mfloat64) \u001b[39mor\u001b[39;00m \u001b[39misinstance\u001b[39m(obj, np\u001b[39m.\u001b[39mfloat32):\n\u001b[1;32m    <a href='file:///mnt/c/Users/TFLORA/capstone-project/venv/lib/python3.8/site-packages/pyLDAvis/utils.py?line=148'>149</a>\u001b[0m     \u001b[39mreturn\u001b[39;00m \u001b[39mfloat\u001b[39m(obj)\n\u001b[0;32m--> <a href='file:///mnt/c/Users/TFLORA/capstone-project/venv/lib/python3.8/site-packages/pyLDAvis/utils.py?line=149'>150</a>\u001b[0m \u001b[39mreturn\u001b[39;00m json\u001b[39m.\u001b[39;49mJSONEncoder\u001b[39m.\u001b[39;49mdefault(\u001b[39mself\u001b[39;49m, obj)\n",
      "File \u001b[0;32m/usr/lib/python3.8/json/encoder.py:179\u001b[0m, in \u001b[0;36mJSONEncoder.default\u001b[0;34m(self, o)\u001b[0m\n\u001b[1;32m    <a href='file:///usr/lib/python3.8/json/encoder.py?line=159'>160</a>\u001b[0m \u001b[39mdef\u001b[39;00m \u001b[39mdefault\u001b[39m(\u001b[39mself\u001b[39m, o):\n\u001b[1;32m    <a href='file:///usr/lib/python3.8/json/encoder.py?line=160'>161</a>\u001b[0m     \u001b[39m\"\"\"Implement this method in a subclass such that it returns\u001b[39;00m\n\u001b[1;32m    <a href='file:///usr/lib/python3.8/json/encoder.py?line=161'>162</a>\u001b[0m \u001b[39m    a serializable object for ``o``, or calls the base implementation\u001b[39;00m\n\u001b[1;32m    <a href='file:///usr/lib/python3.8/json/encoder.py?line=162'>163</a>\u001b[0m \u001b[39m    (to raise a ``TypeError``).\u001b[39;00m\n\u001b[0;32m   (...)\u001b[0m\n\u001b[1;32m    <a href='file:///usr/lib/python3.8/json/encoder.py?line=176'>177</a>\u001b[0m \n\u001b[1;32m    <a href='file:///usr/lib/python3.8/json/encoder.py?line=177'>178</a>\u001b[0m \u001b[39m    \"\"\"\u001b[39;00m\n\u001b[0;32m--> <a href='file:///usr/lib/python3.8/json/encoder.py?line=178'>179</a>\u001b[0m     \u001b[39mraise\u001b[39;00m \u001b[39mTypeError\u001b[39;00m(\u001b[39mf\u001b[39m\u001b[39m'\u001b[39m\u001b[39mObject of type \u001b[39m\u001b[39m{\u001b[39;00mo\u001b[39m.\u001b[39m\u001b[39m__class__\u001b[39m\u001b[39m.\u001b[39m\u001b[39m__name__\u001b[39m\u001b[39m}\u001b[39;00m\u001b[39m \u001b[39m\u001b[39m'\u001b[39m\n\u001b[1;32m    <a href='file:///usr/lib/python3.8/json/encoder.py?line=179'>180</a>\u001b[0m                     \u001b[39mf\u001b[39m\u001b[39m'\u001b[39m\u001b[39mis not JSON serializable\u001b[39m\u001b[39m'\u001b[39m)\n",
      "\u001b[0;31mTypeError\u001b[0m: Object of type complex is not JSON serializable"
     ]
    },
    {
     "data": {
      "text/plain": [
       "PreparedData(topic_coordinates=                        x                   y  topics  cluster       Freq\n",
       "topic                                                                    \n",
       "1     -0.167923+0.000000j  0.054880+0.000000j       1        1  43.046418\n",
       "9      0.157644+0.000000j  0.083125+0.000000j       2        1  32.981128\n",
       "6      0.023922+0.000000j -0.160773+0.000000j       3        1  16.194262\n",
       "5     -0.000848+0.000000j  0.004531+0.000000j       4        1   1.446554\n",
       "0     -0.002132+0.000000j  0.003040+0.000000j       5        1   1.055273\n",
       "2     -0.002132+0.000000j  0.003040+0.000000j       6        1   1.055273\n",
       "3     -0.002132+0.000000j  0.003040+0.000000j       7        1   1.055273\n",
       "4     -0.002132+0.000000j  0.003040+0.000000j       8        1   1.055273\n",
       "7     -0.002132+0.000000j  0.003040+0.000000j       9        1   1.055273\n",
       "8     -0.002132+0.000000j  0.003040+0.000000j      10        1   1.055273, topic_info=            Term     Freq     Total Category  logprob  loglift\n",
       "617   visiongain  6.00000  6.000000  Default  30.0000  30.0000\n",
       "19      aircraft  3.00000  3.000000  Default  29.0000  29.0000\n",
       "528      service  1.00000  1.000000  Default  28.0000  28.0000\n",
       "271          inc  2.00000  2.000000  Default  27.0000  27.0000\n",
       "122        covid  2.00000  2.000000  Default  26.0000  26.0000\n",
       "..           ...      ...       ...      ...      ...      ...\n",
       "376        north  0.00901  0.665803  Topic10  -6.4552   0.2487\n",
       "442        price  0.00901  1.024742  Topic10  -6.4552  -0.1825\n",
       "58        better  0.00901  0.508520  Topic10  -6.4552   0.5182\n",
       "181  engineering  0.00901  0.610667  Topic10  -6.4552   0.3352\n",
       "215     february  0.00901  0.807427  Topic10  -6.4552   0.0559\n",
       "\n",
       "[544 rows x 6 columns], token_table=      Topic      Freq       Term\n",
       "term                            \n",
       "14        3  0.689533  aerospace\n",
       "17        2  0.559647        air\n",
       "17        3  0.559647        air\n",
       "19        2  0.534832   aircraft\n",
       "19        3  0.267416   aircraft\n",
       "...     ...       ...        ...\n",
       "624       2  0.756411       well\n",
       "628       1  0.759134       work\n",
       "631       1  1.159105      world\n",
       "634       3  0.851265      would\n",
       "635       2  0.842076      years\n",
       "\n",
       "[120 rows x 3 columns], R=30, lambda_step=0.01, plot_opts={'xlab': 'PC1', 'ylab': 'PC2'}, topic_order=[2, 10, 7, 6, 1, 3, 4, 5, 8, 9])"
      ]
     },
     "execution_count": 13,
     "metadata": {},
     "output_type": "execute_result"
    }
   ],
   "source": [
    "pyLDAvis.sklearn.prepare(lda_tfidf, dtm_tfidf, tfidf_vectorizer)"
   ]
  },
  {
   "cell_type": "code",
   "execution_count": null,
   "metadata": {
    "cell_id": "00005-6f07f7da-dc8e-4cd8-9a07-211c58256382",
    "deepnote_cell_type": "code",
    "deepnote_to_be_reexecuted": false,
    "execution_start": 1639102266984,
    "source_hash": "b623e53d",
    "tags": []
   },
   "outputs": [
    {
     "name": "stderr",
     "output_type": "stream",
     "text": [
      "/shared-libs/python3.7/py-core/lib/python3.7/site-packages/ipykernel/ipkernel.py:283: DeprecationWarning: `should_run_async` will not call `transform_cell` automatically in the future. Please pass the result to `transformed_cell` argument and any exception that happen during thetransform in `preprocessing_exc_tuple` in IPython 7.17 and above.\n",
      "  and should_run_async(code)\n"
     ]
    }
   ],
   "source": []
  },
  {
   "cell_type": "markdown",
   "metadata": {
    "created_in_deepnote_cell": true,
    "deepnote_cell_type": "markdown",
    "tags": []
   },
   "source": [
    "<a style='text-decoration:none;line-height:16px;display:flex;color:#5B5B62;padding:10px;justify-content:end;' href='https://deepnote.com?utm_source=created-in-deepnote-cell&projectId=2392c230-4672-47ef-bbd2-e97d3feaff76' target=\"_blank\">\n",
    "<img alt='Created in deepnote.com' style='display:inline;max-height:16px;margin:0px;margin-right:7.5px;' src='data:image/svg+xml;base64,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' > </img>\n",
    "Created in <span style='font-weight:600;margin-left:4px;'>Deepnote</span></a>"
   ]
  }
 ],
 "metadata": {
  "deepnote": {
   "is_reactive": false
  },
  "deepnote_execution_queue": [],
  "deepnote_notebook_id": "4e60eb99-dace-4c41-9f25-9f5c39f97b93",
  "interpreter": {
   "hash": "b5b76da60571fd1c783b89bc8cc36b03252d66726ddefe4bc01d5391cfe9804f"
  },
  "kernelspec": {
   "display_name": "Python 3",
   "language": "python",
   "name": "python3"
  },
  "language_info": {
   "codemirror_mode": {
    "name": "ipython",
    "version": 3
   },
   "file_extension": ".py",
   "mimetype": "text/x-python",
   "name": "python",
   "nbconvert_exporter": "python",
   "pygments_lexer": "ipython3",
   "version": "3.8.8"
  }
 },
 "nbformat": 4,
 "nbformat_minor": 2
}
